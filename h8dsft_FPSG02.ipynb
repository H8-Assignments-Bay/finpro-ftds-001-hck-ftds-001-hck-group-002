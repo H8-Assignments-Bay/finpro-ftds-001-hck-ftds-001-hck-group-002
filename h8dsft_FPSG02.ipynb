{
 "cells": [
  {
   "cell_type": "markdown",
   "metadata": {},
   "source": [
    "# FINAL PROJECT STUDY GROUP 02"
   ]
  },
  {
   "cell_type": "markdown",
   "metadata": {},
   "source": [
    "# **I. INTRODUCTION**"
   ]
  },
  {
   "cell_type": "markdown",
   "metadata": {},
   "source": [
    "Welcome everbody to this notebook! A warm welcome given to you all. As for the short introduction, here are the members of Study Group 02:\n",
    "\n",
    "- Members: Aco, Alex, Ihsan, Maheswara, Rizky.\n",
    "- Occupation : Full Time Data Science Hacktiv8 Bootcamp\n",
    "- Topic of Final Project : RFM Clustering and Time Series Prediction"
   ]
  },
  {
   "cell_type": "markdown",
   "metadata": {},
   "source": [
    "## 1.1 BUSINESS PROBLEM UNDERSTANDING"
   ]
  },
  {
   "cell_type": "markdown",
   "metadata": {},
   "source": [
    "### 1.1.1 CONTEXT"
   ]
  },
  {
   "cell_type": "markdown",
   "metadata": {},
   "source": [
    "### 1.1.2 PROBLEM STATEMENT"
   ]
  },
  {
   "cell_type": "markdown",
   "metadata": {},
   "source": [
    "### 1.1.3 OBJECTIVES"
   ]
  },
  {
   "cell_type": "markdown",
   "metadata": {},
   "source": [
    "### 1.1.4 ACTION AND VALUES"
   ]
  },
  {
   "cell_type": "markdown",
   "metadata": {},
   "source": [
    "## 1.2 ABOUT THE DATA"
   ]
  },
  {
   "cell_type": "markdown",
   "metadata": {},
   "source": []
  },
  {
   "cell_type": "markdown",
   "metadata": {},
   "source": [
    "# **II. IMPORTING LIBRARIES**"
   ]
  },
  {
   "cell_type": "code",
   "execution_count": 4,
   "metadata": {},
   "outputs": [],
   "source": [
    "# common dataframe\n",
    "import pandas as pd\n",
    "import numpy as np\n",
    "import pickle\n",
    "\n",
    "# Visualization\n",
    "import matplotlib.pyplot as plt\n",
    "import seaborn as sns\n",
    "\n",
    "# math & statistic function\n",
    "import scipy.stats as stats\n",
    "import math\n",
    "\n",
    "# remove all warnings, more robust\n",
    "import warnings\n",
    "warnings.filterwarnings(\"ignore\")\n",
    "\n",
    "# library for model selection\n",
    "from sklearn.model_selection import train_test_split\n",
    "from sklearn.model_selection import StratifiedKFold, cross_val_score, cross_validate"
   ]
  },
  {
   "cell_type": "markdown",
   "metadata": {},
   "source": [
    "# **III. DATA LOADING**"
   ]
  },
  {
   "cell_type": "code",
   "execution_count": 5,
   "metadata": {},
   "outputs": [],
   "source": [
    "df_date_rollup = pd.read_csv('Final_Project_Dataset/dsc1069_date_rollup.csv')\n",
    "df_events = pd.read_csv('Final_Project_Dataset/dsv1069_events.csv')\n",
    "df_items = pd.read_csv('Final_Project_Dataset/dsv1069_items.csv')\n",
    "df_orders = pd.read_csv('Final_Project_Dataset/dsv1069_orders.csv')\n",
    "df_users = pd.read_csv('Final_Project_Dataset/dsv1069_users.csv')"
   ]
  },
  {
   "cell_type": "markdown",
   "metadata": {},
   "source": [
    "## 3.1 DATA PREVIEW"
   ]
  },
  {
   "cell_type": "code",
   "execution_count": 17,
   "metadata": {},
   "outputs": [
    {
     "data": {
      "text/html": [
       "<div>\n",
       "<style scoped>\n",
       "    .dataframe tbody tr th:only-of-type {\n",
       "        vertical-align: middle;\n",
       "    }\n",
       "\n",
       "    .dataframe tbody tr th {\n",
       "        vertical-align: top;\n",
       "    }\n",
       "\n",
       "    .dataframe thead th {\n",
       "        text-align: right;\n",
       "    }\n",
       "</style>\n",
       "<table border=\"1\" class=\"dataframe\">\n",
       "  <thead>\n",
       "    <tr style=\"text-align: right;\">\n",
       "      <th></th>\n",
       "      <th>date</th>\n",
       "      <th>d7_ago</th>\n",
       "      <th>d28_ago</th>\n",
       "    </tr>\n",
       "  </thead>\n",
       "  <tbody>\n",
       "    <tr>\n",
       "      <th>0</th>\n",
       "      <td>2018-06-01 00:00:00</td>\n",
       "      <td>2018-05-25 00:00:00</td>\n",
       "      <td>2018-05-04 00:00:00</td>\n",
       "    </tr>\n",
       "    <tr>\n",
       "      <th>1</th>\n",
       "      <td>2018-05-31 00:00:00</td>\n",
       "      <td>2018-05-24 00:00:00</td>\n",
       "      <td>2018-05-03 00:00:00</td>\n",
       "    </tr>\n",
       "    <tr>\n",
       "      <th>2</th>\n",
       "      <td>2018-05-30 00:00:00</td>\n",
       "      <td>2018-05-23 00:00:00</td>\n",
       "      <td>2018-05-02 00:00:00</td>\n",
       "    </tr>\n",
       "    <tr>\n",
       "      <th>3</th>\n",
       "      <td>2018-05-29 00:00:00</td>\n",
       "      <td>2018-05-22 00:00:00</td>\n",
       "      <td>2018-05-01 00:00:00</td>\n",
       "    </tr>\n",
       "    <tr>\n",
       "      <th>4</th>\n",
       "      <td>2018-05-28 00:00:00</td>\n",
       "      <td>2018-05-21 00:00:00</td>\n",
       "      <td>2018-04-30 00:00:00</td>\n",
       "    </tr>\n",
       "  </tbody>\n",
       "</table>\n",
       "</div>"
      ],
      "text/plain": [
       "                  date               d7_ago              d28_ago\n",
       "0  2018-06-01 00:00:00  2018-05-25 00:00:00  2018-05-04 00:00:00\n",
       "1  2018-05-31 00:00:00  2018-05-24 00:00:00  2018-05-03 00:00:00\n",
       "2  2018-05-30 00:00:00  2018-05-23 00:00:00  2018-05-02 00:00:00\n",
       "3  2018-05-29 00:00:00  2018-05-22 00:00:00  2018-05-01 00:00:00\n",
       "4  2018-05-28 00:00:00  2018-05-21 00:00:00  2018-04-30 00:00:00"
      ]
     },
     "execution_count": 17,
     "metadata": {},
     "output_type": "execute_result"
    }
   ],
   "source": [
    "df_date_rollup.head()"
   ]
  },
  {
   "cell_type": "code",
   "execution_count": 18,
   "metadata": {},
   "outputs": [
    {
     "data": {
      "text/html": [
       "<div>\n",
       "<style scoped>\n",
       "    .dataframe tbody tr th:only-of-type {\n",
       "        vertical-align: middle;\n",
       "    }\n",
       "\n",
       "    .dataframe tbody tr th {\n",
       "        vertical-align: top;\n",
       "    }\n",
       "\n",
       "    .dataframe thead th {\n",
       "        text-align: right;\n",
       "    }\n",
       "</style>\n",
       "<table border=\"1\" class=\"dataframe\">\n",
       "  <thead>\n",
       "    <tr style=\"text-align: right;\">\n",
       "      <th></th>\n",
       "      <th>date</th>\n",
       "      <th>d7_ago</th>\n",
       "      <th>d28_ago</th>\n",
       "    </tr>\n",
       "  </thead>\n",
       "  <tbody>\n",
       "    <tr>\n",
       "      <th>1973</th>\n",
       "      <td>2013-01-05 00:00:00</td>\n",
       "      <td>2012-12-29 00:00:00</td>\n",
       "      <td>2012-12-08 00:00:00</td>\n",
       "    </tr>\n",
       "    <tr>\n",
       "      <th>1974</th>\n",
       "      <td>2013-01-04 00:00:00</td>\n",
       "      <td>2012-12-28 00:00:00</td>\n",
       "      <td>2012-12-07 00:00:00</td>\n",
       "    </tr>\n",
       "    <tr>\n",
       "      <th>1975</th>\n",
       "      <td>2013-01-03 00:00:00</td>\n",
       "      <td>2012-12-27 00:00:00</td>\n",
       "      <td>2012-12-06 00:00:00</td>\n",
       "    </tr>\n",
       "    <tr>\n",
       "      <th>1976</th>\n",
       "      <td>2013-01-02 00:00:00</td>\n",
       "      <td>2012-12-26 00:00:00</td>\n",
       "      <td>2012-12-05 00:00:00</td>\n",
       "    </tr>\n",
       "    <tr>\n",
       "      <th>1977</th>\n",
       "      <td>2013-01-01 00:00:00</td>\n",
       "      <td>2012-12-25 00:00:00</td>\n",
       "      <td>2012-12-04 00:00:00</td>\n",
       "    </tr>\n",
       "  </tbody>\n",
       "</table>\n",
       "</div>"
      ],
      "text/plain": [
       "                     date               d7_ago              d28_ago\n",
       "1973  2013-01-05 00:00:00  2012-12-29 00:00:00  2012-12-08 00:00:00\n",
       "1974  2013-01-04 00:00:00  2012-12-28 00:00:00  2012-12-07 00:00:00\n",
       "1975  2013-01-03 00:00:00  2012-12-27 00:00:00  2012-12-06 00:00:00\n",
       "1976  2013-01-02 00:00:00  2012-12-26 00:00:00  2012-12-05 00:00:00\n",
       "1977  2013-01-01 00:00:00  2012-12-25 00:00:00  2012-12-04 00:00:00"
      ]
     },
     "execution_count": 18,
     "metadata": {},
     "output_type": "execute_result"
    }
   ],
   "source": [
    "df_date_rollup.tail()"
   ]
  },
  {
   "cell_type": "markdown",
   "metadata": {},
   "source": [
    "---"
   ]
  },
  {
   "cell_type": "code",
   "execution_count": 19,
   "metadata": {},
   "outputs": [
    {
     "data": {
      "text/html": [
       "<div>\n",
       "<style scoped>\n",
       "    .dataframe tbody tr th:only-of-type {\n",
       "        vertical-align: middle;\n",
       "    }\n",
       "\n",
       "    .dataframe tbody tr th {\n",
       "        vertical-align: top;\n",
       "    }\n",
       "\n",
       "    .dataframe thead th {\n",
       "        text-align: right;\n",
       "    }\n",
       "</style>\n",
       "<table border=\"1\" class=\"dataframe\">\n",
       "  <thead>\n",
       "    <tr style=\"text-align: right;\">\n",
       "      <th></th>\n",
       "      <th>event_id</th>\n",
       "      <th>event_time</th>\n",
       "      <th>user_id</th>\n",
       "      <th>event_name</th>\n",
       "      <th>platform</th>\n",
       "      <th>parameter_name</th>\n",
       "      <th>parameter_value</th>\n",
       "    </tr>\n",
       "  </thead>\n",
       "  <tbody>\n",
       "    <tr>\n",
       "      <th>0</th>\n",
       "      <td>b9de71c5c3cc4cd7a97e50b832106e5a</td>\n",
       "      <td>2017-06-26 11:23:39</td>\n",
       "      <td>178481.0</td>\n",
       "      <td>view_item</td>\n",
       "      <td>android</td>\n",
       "      <td>item_id</td>\n",
       "      <td>3526</td>\n",
       "    </tr>\n",
       "    <tr>\n",
       "      <th>1</th>\n",
       "      <td>23267713c9ea44419331731f50b6a8db</td>\n",
       "      <td>2017-06-27 10:46:39</td>\n",
       "      <td>178481.0</td>\n",
       "      <td>view_item</td>\n",
       "      <td>android</td>\n",
       "      <td>item_id</td>\n",
       "      <td>1514</td>\n",
       "    </tr>\n",
       "    <tr>\n",
       "      <th>2</th>\n",
       "      <td>1b7822fa7b854e01970218ae8f721fe0</td>\n",
       "      <td>2017-06-27 11:15:39</td>\n",
       "      <td>178481.0</td>\n",
       "      <td>view_item</td>\n",
       "      <td>android</td>\n",
       "      <td>item_id</td>\n",
       "      <td>3712</td>\n",
       "    </tr>\n",
       "    <tr>\n",
       "      <th>3</th>\n",
       "      <td>2a7a188a626841ac94befcc419f06af4</td>\n",
       "      <td>2016-10-05 20:43:10</td>\n",
       "      <td>154133.0</td>\n",
       "      <td>view_item</td>\n",
       "      <td>android</td>\n",
       "      <td>item_id</td>\n",
       "      <td>3586</td>\n",
       "    </tr>\n",
       "    <tr>\n",
       "      <th>4</th>\n",
       "      <td>631d657264cc4616a4528f759509b25d</td>\n",
       "      <td>2016-10-04 03:29:10</td>\n",
       "      <td>154133.0</td>\n",
       "      <td>view_item</td>\n",
       "      <td>android</td>\n",
       "      <td>item_id</td>\n",
       "      <td>1061</td>\n",
       "    </tr>\n",
       "  </tbody>\n",
       "</table>\n",
       "</div>"
      ],
      "text/plain": [
       "                           event_id           event_time   user_id event_name  \\\n",
       "0  b9de71c5c3cc4cd7a97e50b832106e5a  2017-06-26 11:23:39  178481.0  view_item   \n",
       "1  23267713c9ea44419331731f50b6a8db  2017-06-27 10:46:39  178481.0  view_item   \n",
       "2  1b7822fa7b854e01970218ae8f721fe0  2017-06-27 11:15:39  178481.0  view_item   \n",
       "3  2a7a188a626841ac94befcc419f06af4  2016-10-05 20:43:10  154133.0  view_item   \n",
       "4  631d657264cc4616a4528f759509b25d  2016-10-04 03:29:10  154133.0  view_item   \n",
       "\n",
       "  platform parameter_name parameter_value  \n",
       "0  android        item_id            3526  \n",
       "1  android        item_id            1514  \n",
       "2  android        item_id            3712  \n",
       "3  android        item_id            3586  \n",
       "4  android        item_id            1061  "
      ]
     },
     "execution_count": 19,
     "metadata": {},
     "output_type": "execute_result"
    }
   ],
   "source": [
    "df_events.head()"
   ]
  },
  {
   "cell_type": "code",
   "execution_count": 20,
   "metadata": {},
   "outputs": [
    {
     "data": {
      "text/html": [
       "<div>\n",
       "<style scoped>\n",
       "    .dataframe tbody tr th:only-of-type {\n",
       "        vertical-align: middle;\n",
       "    }\n",
       "\n",
       "    .dataframe tbody tr th {\n",
       "        vertical-align: top;\n",
       "    }\n",
       "\n",
       "    .dataframe thead th {\n",
       "        text-align: right;\n",
       "    }\n",
       "</style>\n",
       "<table border=\"1\" class=\"dataframe\">\n",
       "  <thead>\n",
       "    <tr style=\"text-align: right;\">\n",
       "      <th></th>\n",
       "      <th>event_id</th>\n",
       "      <th>event_time</th>\n",
       "      <th>user_id</th>\n",
       "      <th>event_name</th>\n",
       "      <th>platform</th>\n",
       "      <th>parameter_name</th>\n",
       "      <th>parameter_value</th>\n",
       "    </tr>\n",
       "  </thead>\n",
       "  <tbody>\n",
       "    <tr>\n",
       "      <th>853635</th>\n",
       "      <td>542e24088b464ca7b9a988986dfadb3e</td>\n",
       "      <td>2016-10-22 15:23:09</td>\n",
       "      <td>204159.0</td>\n",
       "      <td>test_assignment</td>\n",
       "      <td>server</td>\n",
       "      <td>test_id</td>\n",
       "      <td>7</td>\n",
       "    </tr>\n",
       "    <tr>\n",
       "      <th>853636</th>\n",
       "      <td>3248a35b0c114408bd3d3a876574429b</td>\n",
       "      <td>2016-10-22 15:23:09</td>\n",
       "      <td>174668.0</td>\n",
       "      <td>test_assignment</td>\n",
       "      <td>server</td>\n",
       "      <td>test_id</td>\n",
       "      <td>7</td>\n",
       "    </tr>\n",
       "    <tr>\n",
       "      <th>853637</th>\n",
       "      <td>7aaa43025ac64aa9b031d88907a4715e</td>\n",
       "      <td>2016-10-18 15:23:09</td>\n",
       "      <td>184075.0</td>\n",
       "      <td>test_assignment</td>\n",
       "      <td>server</td>\n",
       "      <td>test_id</td>\n",
       "      <td>7</td>\n",
       "    </tr>\n",
       "    <tr>\n",
       "      <th>853638</th>\n",
       "      <td>a6c640ffda944ea2bd283e59262d0aa8</td>\n",
       "      <td>2016-10-12 15:23:09</td>\n",
       "      <td>218373.0</td>\n",
       "      <td>test_assignment</td>\n",
       "      <td>server</td>\n",
       "      <td>test_id</td>\n",
       "      <td>7</td>\n",
       "    </tr>\n",
       "    <tr>\n",
       "      <th>853639</th>\n",
       "      <td>39b0fca5279649e1ba289300fcaa6aa0</td>\n",
       "      <td>2016-12-02 15:23:09</td>\n",
       "      <td>167256.0</td>\n",
       "      <td>test_assignment</td>\n",
       "      <td>server</td>\n",
       "      <td>test_id</td>\n",
       "      <td>7</td>\n",
       "    </tr>\n",
       "  </tbody>\n",
       "</table>\n",
       "</div>"
      ],
      "text/plain": [
       "                                event_id           event_time   user_id  \\\n",
       "853635  542e24088b464ca7b9a988986dfadb3e  2016-10-22 15:23:09  204159.0   \n",
       "853636  3248a35b0c114408bd3d3a876574429b  2016-10-22 15:23:09  174668.0   \n",
       "853637  7aaa43025ac64aa9b031d88907a4715e  2016-10-18 15:23:09  184075.0   \n",
       "853638  a6c640ffda944ea2bd283e59262d0aa8  2016-10-12 15:23:09  218373.0   \n",
       "853639  39b0fca5279649e1ba289300fcaa6aa0  2016-12-02 15:23:09  167256.0   \n",
       "\n",
       "             event_name platform parameter_name parameter_value  \n",
       "853635  test_assignment   server        test_id               7  \n",
       "853636  test_assignment   server        test_id               7  \n",
       "853637  test_assignment   server        test_id               7  \n",
       "853638  test_assignment   server        test_id               7  \n",
       "853639  test_assignment   server        test_id               7  "
      ]
     },
     "execution_count": 20,
     "metadata": {},
     "output_type": "execute_result"
    }
   ],
   "source": [
    "df_events.tail()"
   ]
  },
  {
   "cell_type": "markdown",
   "metadata": {},
   "source": [
    "---"
   ]
  },
  {
   "cell_type": "code",
   "execution_count": 21,
   "metadata": {},
   "outputs": [
    {
     "data": {
      "text/html": [
       "<div>\n",
       "<style scoped>\n",
       "    .dataframe tbody tr th:only-of-type {\n",
       "        vertical-align: middle;\n",
       "    }\n",
       "\n",
       "    .dataframe tbody tr th {\n",
       "        vertical-align: top;\n",
       "    }\n",
       "\n",
       "    .dataframe thead th {\n",
       "        text-align: right;\n",
       "    }\n",
       "</style>\n",
       "<table border=\"1\" class=\"dataframe\">\n",
       "  <thead>\n",
       "    <tr style=\"text-align: right;\">\n",
       "      <th></th>\n",
       "      <th>adjective</th>\n",
       "      <th>category</th>\n",
       "      <th>created_at</th>\n",
       "      <th>id</th>\n",
       "      <th>modifier</th>\n",
       "      <th>name</th>\n",
       "      <th>price</th>\n",
       "    </tr>\n",
       "  </thead>\n",
       "  <tbody>\n",
       "    <tr>\n",
       "      <th>0</th>\n",
       "      <td>fuzzy</td>\n",
       "      <td>contraption</td>\n",
       "      <td>2014-01-15 21:36:09</td>\n",
       "      <td>2512.0</td>\n",
       "      <td>carrying_case</td>\n",
       "      <td>fuzzy contraption carrying_case</td>\n",
       "      <td>150.0</td>\n",
       "    </tr>\n",
       "    <tr>\n",
       "      <th>1</th>\n",
       "      <td>NaN</td>\n",
       "      <td>instrument</td>\n",
       "      <td>2013-05-14 05:20:50</td>\n",
       "      <td>482.0</td>\n",
       "      <td>refill</td>\n",
       "      <td>instrument refill</td>\n",
       "      <td>35.2</td>\n",
       "    </tr>\n",
       "    <tr>\n",
       "      <th>2</th>\n",
       "      <td>industrial-strength</td>\n",
       "      <td>module</td>\n",
       "      <td>2014-02-04 19:28:32</td>\n",
       "      <td>2446.0</td>\n",
       "      <td>NaN</td>\n",
       "      <td>industrial-strength module</td>\n",
       "      <td>300.0</td>\n",
       "    </tr>\n",
       "    <tr>\n",
       "      <th>3</th>\n",
       "      <td>digital</td>\n",
       "      <td>tool</td>\n",
       "      <td>2013-02-25 12:23:18</td>\n",
       "      <td>1312.0</td>\n",
       "      <td>carrying_case</td>\n",
       "      <td>digital tool carrying_case</td>\n",
       "      <td>16.5</td>\n",
       "    </tr>\n",
       "    <tr>\n",
       "      <th>4</th>\n",
       "      <td>miniature</td>\n",
       "      <td>device</td>\n",
       "      <td>2013-08-05 17:20:45</td>\n",
       "      <td>3556.0</td>\n",
       "      <td>cleaner</td>\n",
       "      <td>miniature device cleaner</td>\n",
       "      <td>16.5</td>\n",
       "    </tr>\n",
       "  </tbody>\n",
       "</table>\n",
       "</div>"
      ],
      "text/plain": [
       "             adjective     category           created_at      id  \\\n",
       "0                fuzzy  contraption  2014-01-15 21:36:09  2512.0   \n",
       "1                  NaN   instrument  2013-05-14 05:20:50   482.0   \n",
       "2  industrial-strength       module  2014-02-04 19:28:32  2446.0   \n",
       "3              digital         tool  2013-02-25 12:23:18  1312.0   \n",
       "4            miniature       device  2013-08-05 17:20:45  3556.0   \n",
       "\n",
       "        modifier                             name  price  \n",
       "0  carrying_case  fuzzy contraption carrying_case  150.0  \n",
       "1         refill                instrument refill   35.2  \n",
       "2            NaN       industrial-strength module  300.0  \n",
       "3  carrying_case       digital tool carrying_case   16.5  \n",
       "4        cleaner         miniature device cleaner   16.5  "
      ]
     },
     "execution_count": 21,
     "metadata": {},
     "output_type": "execute_result"
    }
   ],
   "source": [
    "df_items.head()"
   ]
  },
  {
   "cell_type": "code",
   "execution_count": 22,
   "metadata": {},
   "outputs": [
    {
     "data": {
      "text/html": [
       "<div>\n",
       "<style scoped>\n",
       "    .dataframe tbody tr th:only-of-type {\n",
       "        vertical-align: middle;\n",
       "    }\n",
       "\n",
       "    .dataframe tbody tr th {\n",
       "        vertical-align: top;\n",
       "    }\n",
       "\n",
       "    .dataframe thead th {\n",
       "        text-align: right;\n",
       "    }\n",
       "</style>\n",
       "<table border=\"1\" class=\"dataframe\">\n",
       "  <thead>\n",
       "    <tr style=\"text-align: right;\">\n",
       "      <th></th>\n",
       "      <th>adjective</th>\n",
       "      <th>category</th>\n",
       "      <th>created_at</th>\n",
       "      <th>id</th>\n",
       "      <th>modifier</th>\n",
       "      <th>name</th>\n",
       "      <th>price</th>\n",
       "    </tr>\n",
       "  </thead>\n",
       "  <tbody>\n",
       "    <tr>\n",
       "      <th>2193</th>\n",
       "      <td>prize-winning</td>\n",
       "      <td>apparatus</td>\n",
       "      <td>2013-08-13 04:14:14</td>\n",
       "      <td>3952.0</td>\n",
       "      <td>charger</td>\n",
       "      <td>prize-winning apparatus charger</td>\n",
       "      <td>66.0</td>\n",
       "    </tr>\n",
       "    <tr>\n",
       "      <th>2194</th>\n",
       "      <td>fuzzy</td>\n",
       "      <td>dongle</td>\n",
       "      <td>2014-01-16 00:58:43</td>\n",
       "      <td>432.0</td>\n",
       "      <td>wrapper</td>\n",
       "      <td>fuzzy dongle wrapper</td>\n",
       "      <td>12.0</td>\n",
       "    </tr>\n",
       "    <tr>\n",
       "      <th>2195</th>\n",
       "      <td>industrial-strength</td>\n",
       "      <td>dongle</td>\n",
       "      <td>2013-12-18 21:37:01</td>\n",
       "      <td>1393.0</td>\n",
       "      <td>refill</td>\n",
       "      <td>industrial-strength dongle refill</td>\n",
       "      <td>72.0</td>\n",
       "    </tr>\n",
       "    <tr>\n",
       "      <th>2196</th>\n",
       "      <td>miniature</td>\n",
       "      <td>device</td>\n",
       "      <td>2013-11-27 14:14:47</td>\n",
       "      <td>425.0</td>\n",
       "      <td>NaN</td>\n",
       "      <td>miniature device</td>\n",
       "      <td>27.5</td>\n",
       "    </tr>\n",
       "    <tr>\n",
       "      <th>2197</th>\n",
       "      <td>NaN</td>\n",
       "      <td>widget</td>\n",
       "      <td>2013-10-10 21:13:50</td>\n",
       "      <td>325.0</td>\n",
       "      <td>how-to-manual</td>\n",
       "      <td>widget how-to-manual</td>\n",
       "      <td>0.0</td>\n",
       "    </tr>\n",
       "  </tbody>\n",
       "</table>\n",
       "</div>"
      ],
      "text/plain": [
       "                adjective   category           created_at      id  \\\n",
       "2193        prize-winning  apparatus  2013-08-13 04:14:14  3952.0   \n",
       "2194                fuzzy     dongle  2014-01-16 00:58:43   432.0   \n",
       "2195  industrial-strength     dongle  2013-12-18 21:37:01  1393.0   \n",
       "2196            miniature     device  2013-11-27 14:14:47   425.0   \n",
       "2197                  NaN     widget  2013-10-10 21:13:50   325.0   \n",
       "\n",
       "           modifier                               name  price  \n",
       "2193        charger    prize-winning apparatus charger   66.0  \n",
       "2194        wrapper               fuzzy dongle wrapper   12.0  \n",
       "2195         refill  industrial-strength dongle refill   72.0  \n",
       "2196            NaN                   miniature device   27.5  \n",
       "2197  how-to-manual               widget how-to-manual    0.0  "
      ]
     },
     "execution_count": 22,
     "metadata": {},
     "output_type": "execute_result"
    }
   ],
   "source": [
    "df_items.tail()"
   ]
  },
  {
   "cell_type": "markdown",
   "metadata": {},
   "source": [
    "---"
   ]
  },
  {
   "cell_type": "code",
   "execution_count": 23,
   "metadata": {},
   "outputs": [
    {
     "data": {
      "text/html": [
       "<div>\n",
       "<style scoped>\n",
       "    .dataframe tbody tr th:only-of-type {\n",
       "        vertical-align: middle;\n",
       "    }\n",
       "\n",
       "    .dataframe tbody tr th {\n",
       "        vertical-align: top;\n",
       "    }\n",
       "\n",
       "    .dataframe thead th {\n",
       "        text-align: right;\n",
       "    }\n",
       "</style>\n",
       "<table border=\"1\" class=\"dataframe\">\n",
       "  <thead>\n",
       "    <tr style=\"text-align: right;\">\n",
       "      <th></th>\n",
       "      <th>invoice_id</th>\n",
       "      <th>line_item_id</th>\n",
       "      <th>user_id</th>\n",
       "      <th>item_id</th>\n",
       "      <th>item_name</th>\n",
       "      <th>item_category</th>\n",
       "      <th>price</th>\n",
       "      <th>created_at</th>\n",
       "      <th>paid_at</th>\n",
       "    </tr>\n",
       "  </thead>\n",
       "  <tbody>\n",
       "    <tr>\n",
       "      <th>0</th>\n",
       "      <td>192320.0</td>\n",
       "      <td>83118.0</td>\n",
       "      <td>178481.0</td>\n",
       "      <td>3526.0</td>\n",
       "      <td>digital apparatus</td>\n",
       "      <td>apparatus</td>\n",
       "      <td>330.0</td>\n",
       "      <td>2017-06-28 21:14:25</td>\n",
       "      <td>2017-06-27 21:19:39</td>\n",
       "    </tr>\n",
       "    <tr>\n",
       "      <th>1</th>\n",
       "      <td>192320.0</td>\n",
       "      <td>207309.0</td>\n",
       "      <td>178481.0</td>\n",
       "      <td>1514.0</td>\n",
       "      <td>miniature apparatus cleaner</td>\n",
       "      <td>apparatus</td>\n",
       "      <td>99.0</td>\n",
       "      <td>2017-06-28 21:14:25</td>\n",
       "      <td>2017-06-27 21:19:39</td>\n",
       "    </tr>\n",
       "    <tr>\n",
       "      <th>2</th>\n",
       "      <td>192320.0</td>\n",
       "      <td>392027.0</td>\n",
       "      <td>178481.0</td>\n",
       "      <td>3712.0</td>\n",
       "      <td>miniature apparatus cleaner</td>\n",
       "      <td>apparatus</td>\n",
       "      <td>99.0</td>\n",
       "      <td>2017-06-28 21:14:25</td>\n",
       "      <td>2017-06-27 21:19:39</td>\n",
       "    </tr>\n",
       "    <tr>\n",
       "      <th>3</th>\n",
       "      <td>80902.0</td>\n",
       "      <td>243831.0</td>\n",
       "      <td>154133.0</td>\n",
       "      <td>3586.0</td>\n",
       "      <td>reflective instrument</td>\n",
       "      <td>instrument</td>\n",
       "      <td>57.2</td>\n",
       "      <td>2016-10-09 06:57:30</td>\n",
       "      <td>2016-10-07 10:08:10</td>\n",
       "    </tr>\n",
       "    <tr>\n",
       "      <th>4</th>\n",
       "      <td>80902.0</td>\n",
       "      <td>399806.0</td>\n",
       "      <td>154133.0</td>\n",
       "      <td>1061.0</td>\n",
       "      <td>extra-strength instrument charger</td>\n",
       "      <td>instrument</td>\n",
       "      <td>17.6</td>\n",
       "      <td>2016-10-09 06:57:30</td>\n",
       "      <td>2016-10-07 10:08:10</td>\n",
       "    </tr>\n",
       "  </tbody>\n",
       "</table>\n",
       "</div>"
      ],
      "text/plain": [
       "   invoice_id  line_item_id   user_id  item_id  \\\n",
       "0    192320.0       83118.0  178481.0   3526.0   \n",
       "1    192320.0      207309.0  178481.0   1514.0   \n",
       "2    192320.0      392027.0  178481.0   3712.0   \n",
       "3     80902.0      243831.0  154133.0   3586.0   \n",
       "4     80902.0      399806.0  154133.0   1061.0   \n",
       "\n",
       "                           item_name item_category  price  \\\n",
       "0                  digital apparatus     apparatus  330.0   \n",
       "1        miniature apparatus cleaner     apparatus   99.0   \n",
       "2        miniature apparatus cleaner     apparatus   99.0   \n",
       "3              reflective instrument    instrument   57.2   \n",
       "4  extra-strength instrument charger    instrument   17.6   \n",
       "\n",
       "            created_at              paid_at  \n",
       "0  2017-06-28 21:14:25  2017-06-27 21:19:39  \n",
       "1  2017-06-28 21:14:25  2017-06-27 21:19:39  \n",
       "2  2017-06-28 21:14:25  2017-06-27 21:19:39  \n",
       "3  2016-10-09 06:57:30  2016-10-07 10:08:10  \n",
       "4  2016-10-09 06:57:30  2016-10-07 10:08:10  "
      ]
     },
     "execution_count": 23,
     "metadata": {},
     "output_type": "execute_result"
    }
   ],
   "source": [
    "df_orders.head()"
   ]
  },
  {
   "cell_type": "code",
   "execution_count": 24,
   "metadata": {},
   "outputs": [
    {
     "data": {
      "text/html": [
       "<div>\n",
       "<style scoped>\n",
       "    .dataframe tbody tr th:only-of-type {\n",
       "        vertical-align: middle;\n",
       "    }\n",
       "\n",
       "    .dataframe tbody tr th {\n",
       "        vertical-align: top;\n",
       "    }\n",
       "\n",
       "    .dataframe thead th {\n",
       "        text-align: right;\n",
       "    }\n",
       "</style>\n",
       "<table border=\"1\" class=\"dataframe\">\n",
       "  <thead>\n",
       "    <tr style=\"text-align: right;\">\n",
       "      <th></th>\n",
       "      <th>invoice_id</th>\n",
       "      <th>line_item_id</th>\n",
       "      <th>user_id</th>\n",
       "      <th>item_id</th>\n",
       "      <th>item_name</th>\n",
       "      <th>item_category</th>\n",
       "      <th>price</th>\n",
       "      <th>created_at</th>\n",
       "      <th>paid_at</th>\n",
       "    </tr>\n",
       "  </thead>\n",
       "  <tbody>\n",
       "    <tr>\n",
       "      <th>47397</th>\n",
       "      <td>122276.0</td>\n",
       "      <td>56104.0</td>\n",
       "      <td>92447.0</td>\n",
       "      <td>801.0</td>\n",
       "      <td>reflective device</td>\n",
       "      <td>device</td>\n",
       "      <td>65.000</td>\n",
       "      <td>2016-01-12 06:01:47</td>\n",
       "      <td>2016-01-13 03:45:44</td>\n",
       "    </tr>\n",
       "    <tr>\n",
       "      <th>47398</th>\n",
       "      <td>348144.0</td>\n",
       "      <td>162528.0</td>\n",
       "      <td>151538.0</td>\n",
       "      <td>3729.0</td>\n",
       "      <td>prize-winning gadget wrapper</td>\n",
       "      <td>gadget</td>\n",
       "      <td>39.160</td>\n",
       "      <td>2016-11-18 21:00:07</td>\n",
       "      <td>2016-11-18 14:19:52</td>\n",
       "    </tr>\n",
       "    <tr>\n",
       "      <th>47399</th>\n",
       "      <td>348144.0</td>\n",
       "      <td>321219.0</td>\n",
       "      <td>151538.0</td>\n",
       "      <td>1645.0</td>\n",
       "      <td>digital gadget carrying_case</td>\n",
       "      <td>gadget</td>\n",
       "      <td>58.740</td>\n",
       "      <td>2016-11-18 21:00:07</td>\n",
       "      <td>2016-11-18 14:19:52</td>\n",
       "    </tr>\n",
       "    <tr>\n",
       "      <th>47400</th>\n",
       "      <td>348144.0</td>\n",
       "      <td>264112.0</td>\n",
       "      <td>151538.0</td>\n",
       "      <td>2084.0</td>\n",
       "      <td>matte gadget storage_unit</td>\n",
       "      <td>gadget</td>\n",
       "      <td>278.125</td>\n",
       "      <td>2016-11-18 21:00:07</td>\n",
       "      <td>2016-11-18 14:19:52</td>\n",
       "    </tr>\n",
       "    <tr>\n",
       "      <th>47401</th>\n",
       "      <td>348144.0</td>\n",
       "      <td>58354.0</td>\n",
       "      <td>151538.0</td>\n",
       "      <td>2681.0</td>\n",
       "      <td>digital gadget charger</td>\n",
       "      <td>gadget</td>\n",
       "      <td>19.580</td>\n",
       "      <td>2016-11-18 21:00:07</td>\n",
       "      <td>2016-11-18 14:19:52</td>\n",
       "    </tr>\n",
       "  </tbody>\n",
       "</table>\n",
       "</div>"
      ],
      "text/plain": [
       "       invoice_id  line_item_id   user_id  item_id  \\\n",
       "47397    122276.0       56104.0   92447.0    801.0   \n",
       "47398    348144.0      162528.0  151538.0   3729.0   \n",
       "47399    348144.0      321219.0  151538.0   1645.0   \n",
       "47400    348144.0      264112.0  151538.0   2084.0   \n",
       "47401    348144.0       58354.0  151538.0   2681.0   \n",
       "\n",
       "                          item_name item_category    price  \\\n",
       "47397             reflective device        device   65.000   \n",
       "47398  prize-winning gadget wrapper        gadget   39.160   \n",
       "47399  digital gadget carrying_case        gadget   58.740   \n",
       "47400     matte gadget storage_unit        gadget  278.125   \n",
       "47401        digital gadget charger        gadget   19.580   \n",
       "\n",
       "                created_at              paid_at  \n",
       "47397  2016-01-12 06:01:47  2016-01-13 03:45:44  \n",
       "47398  2016-11-18 21:00:07  2016-11-18 14:19:52  \n",
       "47399  2016-11-18 21:00:07  2016-11-18 14:19:52  \n",
       "47400  2016-11-18 21:00:07  2016-11-18 14:19:52  \n",
       "47401  2016-11-18 21:00:07  2016-11-18 14:19:52  "
      ]
     },
     "execution_count": 24,
     "metadata": {},
     "output_type": "execute_result"
    }
   ],
   "source": [
    "df_orders.tail()"
   ]
  },
  {
   "cell_type": "markdown",
   "metadata": {},
   "source": [
    "---"
   ]
  },
  {
   "cell_type": "code",
   "execution_count": 25,
   "metadata": {},
   "outputs": [
    {
     "data": {
      "text/html": [
       "<div>\n",
       "<style scoped>\n",
       "    .dataframe tbody tr th:only-of-type {\n",
       "        vertical-align: middle;\n",
       "    }\n",
       "\n",
       "    .dataframe tbody tr th {\n",
       "        vertical-align: top;\n",
       "    }\n",
       "\n",
       "    .dataframe thead th {\n",
       "        text-align: right;\n",
       "    }\n",
       "</style>\n",
       "<table border=\"1\" class=\"dataframe\">\n",
       "  <thead>\n",
       "    <tr style=\"text-align: right;\">\n",
       "      <th></th>\n",
       "      <th>created_at</th>\n",
       "      <th>deleted_at</th>\n",
       "      <th>email_address</th>\n",
       "      <th>first_name</th>\n",
       "      <th>id</th>\n",
       "      <th>last_name</th>\n",
       "      <th>merged_at</th>\n",
       "      <th>parent_user_id</th>\n",
       "    </tr>\n",
       "  </thead>\n",
       "  <tbody>\n",
       "    <tr>\n",
       "      <th>0</th>\n",
       "      <td>2014-12-20 07:07:45</td>\n",
       "      <td>NaN</td>\n",
       "      <td>ArataHopper@earthlink.info</td>\n",
       "      <td>Arata</td>\n",
       "      <td>51590.0</td>\n",
       "      <td>Hopper</td>\n",
       "      <td>NaN</td>\n",
       "      <td>NaN</td>\n",
       "    </tr>\n",
       "    <tr>\n",
       "      <th>1</th>\n",
       "      <td>2016-10-14 05:39:20</td>\n",
       "      <td>NaN</td>\n",
       "      <td>Riya_Gruber1974@mail.net</td>\n",
       "      <td>Riya</td>\n",
       "      <td>158891.0</td>\n",
       "      <td>Gruber</td>\n",
       "      <td>NaN</td>\n",
       "      <td>NaN</td>\n",
       "    </tr>\n",
       "    <tr>\n",
       "      <th>2</th>\n",
       "      <td>2017-01-21 10:20:09</td>\n",
       "      <td>NaN</td>\n",
       "      <td>Peter_Sousa@yahoo.info</td>\n",
       "      <td>Peter</td>\n",
       "      <td>179949.0</td>\n",
       "      <td>Sousa</td>\n",
       "      <td>NaN</td>\n",
       "      <td>NaN</td>\n",
       "    </tr>\n",
       "    <tr>\n",
       "      <th>3</th>\n",
       "      <td>2015-10-30 21:31:30</td>\n",
       "      <td>NaN</td>\n",
       "      <td>D_Kowalski1962@gmail.com</td>\n",
       "      <td>D</td>\n",
       "      <td>98000.0</td>\n",
       "      <td>Kowalski</td>\n",
       "      <td>NaN</td>\n",
       "      <td>NaN</td>\n",
       "    </tr>\n",
       "    <tr>\n",
       "      <th>4</th>\n",
       "      <td>2015-10-24 16:27:27</td>\n",
       "      <td>NaN</td>\n",
       "      <td>SNovak1966@mail.com</td>\n",
       "      <td>S</td>\n",
       "      <td>93994.0</td>\n",
       "      <td>Novak</td>\n",
       "      <td>NaN</td>\n",
       "      <td>NaN</td>\n",
       "    </tr>\n",
       "  </tbody>\n",
       "</table>\n",
       "</div>"
      ],
      "text/plain": [
       "            created_at deleted_at               email_address first_name  \\\n",
       "0  2014-12-20 07:07:45        NaN  ArataHopper@earthlink.info      Arata   \n",
       "1  2016-10-14 05:39:20        NaN    Riya_Gruber1974@mail.net       Riya   \n",
       "2  2017-01-21 10:20:09        NaN      Peter_Sousa@yahoo.info      Peter   \n",
       "3  2015-10-30 21:31:30        NaN    D_Kowalski1962@gmail.com          D   \n",
       "4  2015-10-24 16:27:27        NaN         SNovak1966@mail.com          S   \n",
       "\n",
       "         id last_name merged_at  parent_user_id  \n",
       "0   51590.0    Hopper       NaN             NaN  \n",
       "1  158891.0    Gruber       NaN             NaN  \n",
       "2  179949.0     Sousa       NaN             NaN  \n",
       "3   98000.0  Kowalski       NaN             NaN  \n",
       "4   93994.0     Novak       NaN             NaN  "
      ]
     },
     "execution_count": 25,
     "metadata": {},
     "output_type": "execute_result"
    }
   ],
   "source": [
    "df_users.head()"
   ]
  },
  {
   "cell_type": "code",
   "execution_count": 26,
   "metadata": {},
   "outputs": [
    {
     "data": {
      "text/html": [
       "<div>\n",
       "<style scoped>\n",
       "    .dataframe tbody tr th:only-of-type {\n",
       "        vertical-align: middle;\n",
       "    }\n",
       "\n",
       "    .dataframe tbody tr th {\n",
       "        vertical-align: top;\n",
       "    }\n",
       "\n",
       "    .dataframe thead th {\n",
       "        text-align: right;\n",
       "    }\n",
       "</style>\n",
       "<table border=\"1\" class=\"dataframe\">\n",
       "  <thead>\n",
       "    <tr style=\"text-align: right;\">\n",
       "      <th></th>\n",
       "      <th>created_at</th>\n",
       "      <th>deleted_at</th>\n",
       "      <th>email_address</th>\n",
       "      <th>first_name</th>\n",
       "      <th>id</th>\n",
       "      <th>last_name</th>\n",
       "      <th>merged_at</th>\n",
       "      <th>parent_user_id</th>\n",
       "    </tr>\n",
       "  </thead>\n",
       "  <tbody>\n",
       "    <tr>\n",
       "      <th>117173</th>\n",
       "      <td>2013-11-16 03:03:39</td>\n",
       "      <td>NaN</td>\n",
       "      <td>ADavis@inbox.com</td>\n",
       "      <td>A</td>\n",
       "      <td>11045.0</td>\n",
       "      <td>Davis</td>\n",
       "      <td>NaN</td>\n",
       "      <td>NaN</td>\n",
       "    </tr>\n",
       "    <tr>\n",
       "      <th>117174</th>\n",
       "      <td>2016-08-23 08:29:02</td>\n",
       "      <td>NaN</td>\n",
       "      <td>TalaAlami1959@mail.info</td>\n",
       "      <td>Tala</td>\n",
       "      <td>152456.0</td>\n",
       "      <td>Alami</td>\n",
       "      <td>NaN</td>\n",
       "      <td>NaN</td>\n",
       "    </tr>\n",
       "    <tr>\n",
       "      <th>117175</th>\n",
       "      <td>2017-09-21 14:33:54</td>\n",
       "      <td>NaN</td>\n",
       "      <td>HAmin@mail.info</td>\n",
       "      <td>H</td>\n",
       "      <td>236077.0</td>\n",
       "      <td>Amin</td>\n",
       "      <td>NaN</td>\n",
       "      <td>NaN</td>\n",
       "    </tr>\n",
       "    <tr>\n",
       "      <th>117176</th>\n",
       "      <td>2017-07-21 18:47:37</td>\n",
       "      <td>NaN</td>\n",
       "      <td>J_Petrov@gmail.edu</td>\n",
       "      <td>J</td>\n",
       "      <td>218373.0</td>\n",
       "      <td>Petrov</td>\n",
       "      <td>2018-03-14 23:32:16</td>\n",
       "      <td>99787.0</td>\n",
       "    </tr>\n",
       "    <tr>\n",
       "      <th>117177</th>\n",
       "      <td>2016-11-13 15:47:51</td>\n",
       "      <td>NaN</td>\n",
       "      <td>MohamedMiller@outlook.com</td>\n",
       "      <td>Mohamed</td>\n",
       "      <td>167256.0</td>\n",
       "      <td>Miller</td>\n",
       "      <td>NaN</td>\n",
       "      <td>NaN</td>\n",
       "    </tr>\n",
       "  </tbody>\n",
       "</table>\n",
       "</div>"
      ],
      "text/plain": [
       "                 created_at deleted_at              email_address first_name  \\\n",
       "117173  2013-11-16 03:03:39        NaN           ADavis@inbox.com          A   \n",
       "117174  2016-08-23 08:29:02        NaN    TalaAlami1959@mail.info       Tala   \n",
       "117175  2017-09-21 14:33:54        NaN            HAmin@mail.info          H   \n",
       "117176  2017-07-21 18:47:37        NaN         J_Petrov@gmail.edu          J   \n",
       "117177  2016-11-13 15:47:51        NaN  MohamedMiller@outlook.com    Mohamed   \n",
       "\n",
       "              id last_name            merged_at  parent_user_id  \n",
       "117173   11045.0     Davis                  NaN             NaN  \n",
       "117174  152456.0     Alami                  NaN             NaN  \n",
       "117175  236077.0      Amin                  NaN             NaN  \n",
       "117176  218373.0    Petrov  2018-03-14 23:32:16         99787.0  \n",
       "117177  167256.0    Miller                  NaN             NaN  "
      ]
     },
     "execution_count": 26,
     "metadata": {},
     "output_type": "execute_result"
    }
   ],
   "source": [
    "df_users.tail()"
   ]
  },
  {
   "cell_type": "markdown",
   "metadata": {},
   "source": [
    "# **IV. DATA CLEANING**"
   ]
  },
  {
   "cell_type": "markdown",
   "metadata": {},
   "source": [
    "## 4.1 NULL VALUES CHECKING"
   ]
  },
  {
   "cell_type": "code",
   "execution_count": 12,
   "metadata": {},
   "outputs": [
    {
     "name": "stdout",
     "output_type": "stream",
     "text": [
      "<class 'pandas.core.frame.DataFrame'>\n",
      "RangeIndex: 1978 entries, 0 to 1977\n",
      "Data columns (total 3 columns):\n",
      " #   Column   Non-Null Count  Dtype \n",
      "---  ------   --------------  ----- \n",
      " 0   date     1978 non-null   object\n",
      " 1   d7_ago   1978 non-null   object\n",
      " 2   d28_ago  1978 non-null   object\n",
      "dtypes: object(3)\n",
      "memory usage: 46.5+ KB\n"
     ]
    }
   ],
   "source": [
    "df_date_rollup.info()"
   ]
  },
  {
   "cell_type": "code",
   "execution_count": 7,
   "metadata": {},
   "outputs": [
    {
     "data": {
      "text/plain": [
       "date       0\n",
       "d7_ago     0\n",
       "d28_ago    0\n",
       "dtype: int64"
      ]
     },
     "execution_count": 7,
     "metadata": {},
     "output_type": "execute_result"
    }
   ],
   "source": [
    "df_date_rollup.isna().sum()"
   ]
  },
  {
   "cell_type": "markdown",
   "metadata": {},
   "source": [
    "---"
   ]
  },
  {
   "cell_type": "code",
   "execution_count": 13,
   "metadata": {},
   "outputs": [
    {
     "name": "stdout",
     "output_type": "stream",
     "text": [
      "<class 'pandas.core.frame.DataFrame'>\n",
      "RangeIndex: 853640 entries, 0 to 853639\n",
      "Data columns (total 7 columns):\n",
      " #   Column           Non-Null Count   Dtype  \n",
      "---  ------           --------------   -----  \n",
      " 0   event_id         853640 non-null  object \n",
      " 1   event_time       853640 non-null  object \n",
      " 2   user_id          853640 non-null  float64\n",
      " 3   event_name       853640 non-null  object \n",
      " 4   platform         853640 non-null  object \n",
      " 5   parameter_name   853640 non-null  object \n",
      " 6   parameter_value  853640 non-null  object \n",
      "dtypes: float64(1), object(6)\n",
      "memory usage: 45.6+ MB\n"
     ]
    }
   ],
   "source": [
    "df_events.info()"
   ]
  },
  {
   "cell_type": "code",
   "execution_count": 8,
   "metadata": {},
   "outputs": [
    {
     "data": {
      "text/plain": [
       "event_id           0\n",
       "event_time         0\n",
       "user_id            0\n",
       "event_name         0\n",
       "platform           0\n",
       "parameter_name     0\n",
       "parameter_value    0\n",
       "dtype: int64"
      ]
     },
     "execution_count": 8,
     "metadata": {},
     "output_type": "execute_result"
    }
   ],
   "source": [
    "df_events.isna().sum()"
   ]
  },
  {
   "cell_type": "markdown",
   "metadata": {},
   "source": [
    "---"
   ]
  },
  {
   "cell_type": "code",
   "execution_count": 14,
   "metadata": {},
   "outputs": [
    {
     "name": "stdout",
     "output_type": "stream",
     "text": [
      "<class 'pandas.core.frame.DataFrame'>\n",
      "RangeIndex: 2198 entries, 0 to 2197\n",
      "Data columns (total 7 columns):\n",
      " #   Column      Non-Null Count  Dtype  \n",
      "---  ------      --------------  -----  \n",
      " 0   adjective   1926 non-null   object \n",
      " 1   category    2198 non-null   object \n",
      " 2   created_at  2198 non-null   object \n",
      " 3   id          2198 non-null   float64\n",
      " 4   modifier    1432 non-null   object \n",
      " 5   name        2198 non-null   object \n",
      " 6   price       2198 non-null   float64\n",
      "dtypes: float64(2), object(5)\n",
      "memory usage: 120.3+ KB\n"
     ]
    }
   ],
   "source": [
    "df_items.info()"
   ]
  },
  {
   "cell_type": "code",
   "execution_count": 9,
   "metadata": {},
   "outputs": [
    {
     "data": {
      "text/plain": [
       "adjective     272\n",
       "category        0\n",
       "created_at      0\n",
       "id              0\n",
       "modifier      766\n",
       "name            0\n",
       "price           0\n",
       "dtype: int64"
      ]
     },
     "execution_count": 9,
     "metadata": {},
     "output_type": "execute_result"
    }
   ],
   "source": [
    "df_items.isna().sum()"
   ]
  },
  {
   "cell_type": "markdown",
   "metadata": {},
   "source": [
    "---"
   ]
  },
  {
   "cell_type": "code",
   "execution_count": 15,
   "metadata": {},
   "outputs": [
    {
     "name": "stdout",
     "output_type": "stream",
     "text": [
      "<class 'pandas.core.frame.DataFrame'>\n",
      "RangeIndex: 47402 entries, 0 to 47401\n",
      "Data columns (total 9 columns):\n",
      " #   Column         Non-Null Count  Dtype  \n",
      "---  ------         --------------  -----  \n",
      " 0   invoice_id     47402 non-null  float64\n",
      " 1   line_item_id   47402 non-null  float64\n",
      " 2   user_id        47402 non-null  float64\n",
      " 3   item_id        47402 non-null  float64\n",
      " 4   item_name      47402 non-null  object \n",
      " 5   item_category  47402 non-null  object \n",
      " 6   price          47402 non-null  float64\n",
      " 7   created_at     47402 non-null  object \n",
      " 8   paid_at        47402 non-null  object \n",
      "dtypes: float64(5), object(4)\n",
      "memory usage: 3.3+ MB\n"
     ]
    }
   ],
   "source": [
    "df_orders.info()"
   ]
  },
  {
   "cell_type": "code",
   "execution_count": 10,
   "metadata": {},
   "outputs": [
    {
     "data": {
      "text/plain": [
       "invoice_id       0\n",
       "line_item_id     0\n",
       "user_id          0\n",
       "item_id          0\n",
       "item_name        0\n",
       "item_category    0\n",
       "price            0\n",
       "created_at       0\n",
       "paid_at          0\n",
       "dtype: int64"
      ]
     },
     "execution_count": 10,
     "metadata": {},
     "output_type": "execute_result"
    }
   ],
   "source": [
    "df_orders.isna().sum()"
   ]
  },
  {
   "cell_type": "markdown",
   "metadata": {},
   "source": [
    "---"
   ]
  },
  {
   "cell_type": "code",
   "execution_count": 16,
   "metadata": {},
   "outputs": [
    {
     "name": "stdout",
     "output_type": "stream",
     "text": [
      "<class 'pandas.core.frame.DataFrame'>\n",
      "RangeIndex: 117178 entries, 0 to 117177\n",
      "Data columns (total 8 columns):\n",
      " #   Column          Non-Null Count   Dtype  \n",
      "---  ------          --------------   -----  \n",
      " 0   created_at      117178 non-null  object \n",
      " 1   deleted_at      2888 non-null    object \n",
      " 2   email_address   117178 non-null  object \n",
      " 3   first_name      117178 non-null  object \n",
      " 4   id              117178 non-null  float64\n",
      " 5   last_name       117178 non-null  object \n",
      " 6   merged_at       6408 non-null    object \n",
      " 7   parent_user_id  6408 non-null    float64\n",
      "dtypes: float64(2), object(6)\n",
      "memory usage: 7.2+ MB\n"
     ]
    }
   ],
   "source": [
    "df_users.info()"
   ]
  },
  {
   "cell_type": "code",
   "execution_count": 11,
   "metadata": {},
   "outputs": [
    {
     "data": {
      "text/plain": [
       "created_at             0\n",
       "deleted_at        114290\n",
       "email_address          0\n",
       "first_name             0\n",
       "id                     0\n",
       "last_name              0\n",
       "merged_at         110770\n",
       "parent_user_id    110770\n",
       "dtype: int64"
      ]
     },
     "execution_count": 11,
     "metadata": {},
     "output_type": "execute_result"
    }
   ],
   "source": [
    "df_users.isna().sum()"
   ]
  },
  {
   "cell_type": "markdown",
   "metadata": {},
   "source": [
    "---"
   ]
  },
  {
   "cell_type": "markdown",
   "metadata": {},
   "source": [
    "`df_items` and `df_users` have missing values."
   ]
  },
  {
   "cell_type": "markdown",
   "metadata": {},
   "source": [
    "## 4.2 DUPLICATION CHECKING"
   ]
  },
  {
   "cell_type": "code",
   "execution_count": 27,
   "metadata": {},
   "outputs": [
    {
     "data": {
      "text/plain": [
       "False"
      ]
     },
     "execution_count": 27,
     "metadata": {},
     "output_type": "execute_result"
    }
   ],
   "source": [
    "df_date_rollup.duplicated().any()"
   ]
  },
  {
   "cell_type": "code",
   "execution_count": 28,
   "metadata": {},
   "outputs": [
    {
     "data": {
      "text/plain": [
       "False"
      ]
     },
     "execution_count": 28,
     "metadata": {},
     "output_type": "execute_result"
    }
   ],
   "source": [
    "df_events.duplicated().any()"
   ]
  },
  {
   "cell_type": "code",
   "execution_count": 30,
   "metadata": {},
   "outputs": [
    {
     "data": {
      "text/plain": [
       "False"
      ]
     },
     "execution_count": 30,
     "metadata": {},
     "output_type": "execute_result"
    }
   ],
   "source": [
    "df_items.duplicated().any()"
   ]
  },
  {
   "cell_type": "code",
   "execution_count": 31,
   "metadata": {},
   "outputs": [
    {
     "data": {
      "text/plain": [
       "False"
      ]
     },
     "execution_count": 31,
     "metadata": {},
     "output_type": "execute_result"
    }
   ],
   "source": [
    "df_orders.duplicated().any()"
   ]
  },
  {
   "cell_type": "code",
   "execution_count": 32,
   "metadata": {},
   "outputs": [
    {
     "data": {
      "text/plain": [
       "False"
      ]
     },
     "execution_count": 32,
     "metadata": {},
     "output_type": "execute_result"
    }
   ],
   "source": [
    "df_users.duplicated().any()"
   ]
  },
  {
   "cell_type": "code",
   "execution_count": null,
   "metadata": {},
   "outputs": [],
   "source": []
  }
 ],
 "metadata": {
  "kernelspec": {
   "display_name": "Python 3.9.6 64-bit",
   "language": "python",
   "name": "python3"
  },
  "language_info": {
   "codemirror_mode": {
    "name": "ipython",
    "version": 3
   },
   "file_extension": ".py",
   "mimetype": "text/x-python",
   "name": "python",
   "nbconvert_exporter": "python",
   "pygments_lexer": "ipython3",
   "version": "3.9.6"
  },
  "orig_nbformat": 4,
  "vscode": {
   "interpreter": {
    "hash": "f3d42ad487b2b2994e012ab0306cc0a65d83ea9d079e1ade1e8453053e613de7"
   }
  }
 },
 "nbformat": 4,
 "nbformat_minor": 2
}
