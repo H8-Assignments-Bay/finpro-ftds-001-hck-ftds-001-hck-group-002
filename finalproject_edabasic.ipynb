{
 "cells": [
  {
   "cell_type": "code",
   "execution_count": 1,
   "id": "4cbb8c64",
   "metadata": {},
   "outputs": [],
   "source": [
    "import pandas as pd"
   ]
  },
  {
   "cell_type": "code",
   "execution_count": 2,
   "id": "1809bd51",
   "metadata": {},
   "outputs": [
    {
     "name": "stderr",
     "output_type": "stream",
     "text": [
      "/var/folders/s_/r90svjs50h9b752srkd7pr3w0000gp/T/ipykernel_1552/2340850340.py:4: DtypeWarning: Columns (6) have mixed types. Specify dtype option on import or set low_memory=False.\n",
      "  df_events = pd.read_csv('dsv1069_events.csv')\n"
     ]
    }
   ],
   "source": [
    "df_users = pd.read_csv('dsv1069_users.csv')\n",
    "df_orders = pd.read_csv('dsv1069_orders.csv')\n",
    "df_items = pd.read_csv('dsv1069_items.csv')\n",
    "df_events = pd.read_csv('dsv1069_events.csv')\n",
    "df_date = pd.read_csv('dsc1069_date_rollup.csv')"
   ]
  },
  {
   "cell_type": "markdown",
   "id": "8d65306f",
   "metadata": {},
   "source": [
    "# df_users"
   ]
  },
  {
   "cell_type": "code",
   "execution_count": 6,
   "id": "568cb1f0",
   "metadata": {},
   "outputs": [
    {
     "data": {
      "text/html": [
       "<div>\n",
       "<style scoped>\n",
       "    .dataframe tbody tr th:only-of-type {\n",
       "        vertical-align: middle;\n",
       "    }\n",
       "\n",
       "    .dataframe tbody tr th {\n",
       "        vertical-align: top;\n",
       "    }\n",
       "\n",
       "    .dataframe thead th {\n",
       "        text-align: right;\n",
       "    }\n",
       "</style>\n",
       "<table border=\"1\" class=\"dataframe\">\n",
       "  <thead>\n",
       "    <tr style=\"text-align: right;\">\n",
       "      <th></th>\n",
       "      <th>created_at</th>\n",
       "      <th>deleted_at</th>\n",
       "      <th>email_address</th>\n",
       "      <th>first_name</th>\n",
       "      <th>id</th>\n",
       "      <th>last_name</th>\n",
       "      <th>merged_at</th>\n",
       "      <th>parent_user_id</th>\n",
       "    </tr>\n",
       "  </thead>\n",
       "  <tbody>\n",
       "    <tr>\n",
       "      <th>0</th>\n",
       "      <td>2014-12-20 07:07:45</td>\n",
       "      <td>NaN</td>\n",
       "      <td>ArataHopper@earthlink.info</td>\n",
       "      <td>Arata</td>\n",
       "      <td>51590.0</td>\n",
       "      <td>Hopper</td>\n",
       "      <td>NaN</td>\n",
       "      <td>NaN</td>\n",
       "    </tr>\n",
       "    <tr>\n",
       "      <th>1</th>\n",
       "      <td>2016-10-14 05:39:20</td>\n",
       "      <td>NaN</td>\n",
       "      <td>Riya_Gruber1974@mail.net</td>\n",
       "      <td>Riya</td>\n",
       "      <td>158891.0</td>\n",
       "      <td>Gruber</td>\n",
       "      <td>NaN</td>\n",
       "      <td>NaN</td>\n",
       "    </tr>\n",
       "    <tr>\n",
       "      <th>2</th>\n",
       "      <td>2017-01-21 10:20:09</td>\n",
       "      <td>NaN</td>\n",
       "      <td>Peter_Sousa@yahoo.info</td>\n",
       "      <td>Peter</td>\n",
       "      <td>179949.0</td>\n",
       "      <td>Sousa</td>\n",
       "      <td>NaN</td>\n",
       "      <td>NaN</td>\n",
       "    </tr>\n",
       "    <tr>\n",
       "      <th>3</th>\n",
       "      <td>2015-10-30 21:31:30</td>\n",
       "      <td>NaN</td>\n",
       "      <td>D_Kowalski1962@gmail.com</td>\n",
       "      <td>D</td>\n",
       "      <td>98000.0</td>\n",
       "      <td>Kowalski</td>\n",
       "      <td>NaN</td>\n",
       "      <td>NaN</td>\n",
       "    </tr>\n",
       "    <tr>\n",
       "      <th>4</th>\n",
       "      <td>2015-10-24 16:27:27</td>\n",
       "      <td>NaN</td>\n",
       "      <td>SNovak1966@mail.com</td>\n",
       "      <td>S</td>\n",
       "      <td>93994.0</td>\n",
       "      <td>Novak</td>\n",
       "      <td>NaN</td>\n",
       "      <td>NaN</td>\n",
       "    </tr>\n",
       "    <tr>\n",
       "      <th>5</th>\n",
       "      <td>2017-01-08 17:44:28</td>\n",
       "      <td>NaN</td>\n",
       "      <td>Robot_Santos@yahoo.biz</td>\n",
       "      <td>Robot</td>\n",
       "      <td>179853.0</td>\n",
       "      <td>Santos</td>\n",
       "      <td>NaN</td>\n",
       "      <td>NaN</td>\n",
       "    </tr>\n",
       "    <tr>\n",
       "      <th>6</th>\n",
       "      <td>2015-02-07 22:39:03</td>\n",
       "      <td>NaN</td>\n",
       "      <td>Luis_Wilson1996@inbox.org</td>\n",
       "      <td>Luis</td>\n",
       "      <td>58011.0</td>\n",
       "      <td>Wilson</td>\n",
       "      <td>NaN</td>\n",
       "      <td>NaN</td>\n",
       "    </tr>\n",
       "    <tr>\n",
       "      <th>7</th>\n",
       "      <td>2015-03-29 09:38:01</td>\n",
       "      <td>NaN</td>\n",
       "      <td>D_Powell1991@yahoo.edu</td>\n",
       "      <td>D</td>\n",
       "      <td>64712.0</td>\n",
       "      <td>Powell</td>\n",
       "      <td>NaN</td>\n",
       "      <td>NaN</td>\n",
       "    </tr>\n",
       "  </tbody>\n",
       "</table>\n",
       "</div>"
      ],
      "text/plain": [
       "            created_at deleted_at               email_address first_name  \\\n",
       "0  2014-12-20 07:07:45        NaN  ArataHopper@earthlink.info      Arata   \n",
       "1  2016-10-14 05:39:20        NaN    Riya_Gruber1974@mail.net       Riya   \n",
       "2  2017-01-21 10:20:09        NaN      Peter_Sousa@yahoo.info      Peter   \n",
       "3  2015-10-30 21:31:30        NaN    D_Kowalski1962@gmail.com          D   \n",
       "4  2015-10-24 16:27:27        NaN         SNovak1966@mail.com          S   \n",
       "5  2017-01-08 17:44:28        NaN      Robot_Santos@yahoo.biz      Robot   \n",
       "6  2015-02-07 22:39:03        NaN   Luis_Wilson1996@inbox.org       Luis   \n",
       "7  2015-03-29 09:38:01        NaN      D_Powell1991@yahoo.edu          D   \n",
       "\n",
       "         id last_name merged_at  parent_user_id  \n",
       "0   51590.0    Hopper       NaN             NaN  \n",
       "1  158891.0    Gruber       NaN             NaN  \n",
       "2  179949.0     Sousa       NaN             NaN  \n",
       "3   98000.0  Kowalski       NaN             NaN  \n",
       "4   93994.0     Novak       NaN             NaN  \n",
       "5  179853.0    Santos       NaN             NaN  \n",
       "6   58011.0    Wilson       NaN             NaN  \n",
       "7   64712.0    Powell       NaN             NaN  "
      ]
     },
     "execution_count": 6,
     "metadata": {},
     "output_type": "execute_result"
    }
   ],
   "source": [
    "df_users.head(8)"
   ]
  },
  {
   "cell_type": "code",
   "execution_count": 11,
   "id": "a3873d71",
   "metadata": {},
   "outputs": [
    {
     "data": {
      "text/plain": [
       "deleted_at        114290\n",
       "merged_at         110770\n",
       "parent_user_id    110770\n",
       "created_at             0\n",
       "email_address          0\n",
       "first_name             0\n",
       "id                     0\n",
       "last_name              0\n",
       "dtype: int64"
      ]
     },
     "execution_count": 11,
     "metadata": {},
     "output_type": "execute_result"
    }
   ],
   "source": [
    "df_users.isnull().sum().sort_values(ascending=False)"
   ]
  },
  {
   "cell_type": "code",
   "execution_count": 16,
   "id": "f76fe9db",
   "metadata": {},
   "outputs": [
    {
     "data": {
      "text/html": [
       "<div>\n",
       "<style scoped>\n",
       "    .dataframe tbody tr th:only-of-type {\n",
       "        vertical-align: middle;\n",
       "    }\n",
       "\n",
       "    .dataframe tbody tr th {\n",
       "        vertical-align: top;\n",
       "    }\n",
       "\n",
       "    .dataframe thead th {\n",
       "        text-align: right;\n",
       "    }\n",
       "</style>\n",
       "<table border=\"1\" class=\"dataframe\">\n",
       "  <thead>\n",
       "    <tr style=\"text-align: right;\">\n",
       "      <th></th>\n",
       "      <th>created_at</th>\n",
       "      <th>deleted_at</th>\n",
       "      <th>email_address</th>\n",
       "      <th>first_name</th>\n",
       "      <th>id</th>\n",
       "      <th>last_name</th>\n",
       "      <th>merged_at</th>\n",
       "      <th>parent_user_id</th>\n",
       "    </tr>\n",
       "  </thead>\n",
       "  <tbody>\n",
       "    <tr>\n",
       "      <th>0</th>\n",
       "      <td>2014-12-20 07:07:45</td>\n",
       "      <td>NaN</td>\n",
       "      <td>ArataHopper@earthlink.info</td>\n",
       "      <td>Arata</td>\n",
       "      <td>51590.0</td>\n",
       "      <td>Hopper</td>\n",
       "      <td>NaN</td>\n",
       "      <td>NaN</td>\n",
       "    </tr>\n",
       "    <tr>\n",
       "      <th>1</th>\n",
       "      <td>2016-10-14 05:39:20</td>\n",
       "      <td>NaN</td>\n",
       "      <td>Riya_Gruber1974@mail.net</td>\n",
       "      <td>Riya</td>\n",
       "      <td>158891.0</td>\n",
       "      <td>Gruber</td>\n",
       "      <td>NaN</td>\n",
       "      <td>NaN</td>\n",
       "    </tr>\n",
       "    <tr>\n",
       "      <th>2</th>\n",
       "      <td>2017-01-21 10:20:09</td>\n",
       "      <td>NaN</td>\n",
       "      <td>Peter_Sousa@yahoo.info</td>\n",
       "      <td>Peter</td>\n",
       "      <td>179949.0</td>\n",
       "      <td>Sousa</td>\n",
       "      <td>NaN</td>\n",
       "      <td>NaN</td>\n",
       "    </tr>\n",
       "    <tr>\n",
       "      <th>3</th>\n",
       "      <td>2015-10-30 21:31:30</td>\n",
       "      <td>NaN</td>\n",
       "      <td>D_Kowalski1962@gmail.com</td>\n",
       "      <td>D</td>\n",
       "      <td>98000.0</td>\n",
       "      <td>Kowalski</td>\n",
       "      <td>NaN</td>\n",
       "      <td>NaN</td>\n",
       "    </tr>\n",
       "    <tr>\n",
       "      <th>4</th>\n",
       "      <td>2015-10-24 16:27:27</td>\n",
       "      <td>NaN</td>\n",
       "      <td>SNovak1966@mail.com</td>\n",
       "      <td>S</td>\n",
       "      <td>93994.0</td>\n",
       "      <td>Novak</td>\n",
       "      <td>NaN</td>\n",
       "      <td>NaN</td>\n",
       "    </tr>\n",
       "  </tbody>\n",
       "</table>\n",
       "</div>"
      ],
      "text/plain": [
       "            created_at deleted_at               email_address first_name  \\\n",
       "0  2014-12-20 07:07:45        NaN  ArataHopper@earthlink.info      Arata   \n",
       "1  2016-10-14 05:39:20        NaN    Riya_Gruber1974@mail.net       Riya   \n",
       "2  2017-01-21 10:20:09        NaN      Peter_Sousa@yahoo.info      Peter   \n",
       "3  2015-10-30 21:31:30        NaN    D_Kowalski1962@gmail.com          D   \n",
       "4  2015-10-24 16:27:27        NaN         SNovak1966@mail.com          S   \n",
       "\n",
       "         id last_name merged_at  parent_user_id  \n",
       "0   51590.0    Hopper       NaN             NaN  \n",
       "1  158891.0    Gruber       NaN             NaN  \n",
       "2  179949.0     Sousa       NaN             NaN  \n",
       "3   98000.0  Kowalski       NaN             NaN  \n",
       "4   93994.0     Novak       NaN             NaN  "
      ]
     },
     "execution_count": 16,
     "metadata": {},
     "output_type": "execute_result"
    }
   ],
   "source": [
    "df_users[df_users.isnull().any(axis=1)].head()"
   ]
  },
  {
   "cell_type": "code",
   "execution_count": 48,
   "id": "89338376",
   "metadata": {},
   "outputs": [
    {
     "data": {
      "text/plain": [
       "0"
      ]
     },
     "execution_count": 48,
     "metadata": {},
     "output_type": "execute_result"
    }
   ],
   "source": [
    "df_users.duplicated().sum()"
   ]
  },
  {
   "cell_type": "code",
   "execution_count": 63,
   "id": "fae93403",
   "metadata": {},
   "outputs": [
    {
     "data": {
      "text/plain": [
       "created_at        117178\n",
       "deleted_at          2888\n",
       "email_address     117178\n",
       "first_name        117178\n",
       "id                117178\n",
       "last_name         117178\n",
       "merged_at           6408\n",
       "parent_user_id      6408\n",
       "dtype: int64"
      ]
     },
     "execution_count": 63,
     "metadata": {},
     "output_type": "execute_result"
    }
   ],
   "source": [
    "df_users.count()"
   ]
  },
  {
   "cell_type": "code",
   "execution_count": 61,
   "id": "887de316",
   "metadata": {},
   "outputs": [
    {
     "name": "stdout",
     "output_type": "stream",
     "text": [
      "<class 'pandas.core.frame.DataFrame'>\n",
      "RangeIndex: 117178 entries, 0 to 117177\n",
      "Data columns (total 8 columns):\n",
      " #   Column          Non-Null Count   Dtype  \n",
      "---  ------          --------------   -----  \n",
      " 0   created_at      117178 non-null  object \n",
      " 1   deleted_at      2888 non-null    object \n",
      " 2   email_address   117178 non-null  object \n",
      " 3   first_name      117178 non-null  object \n",
      " 4   id              117178 non-null  float64\n",
      " 5   last_name       117178 non-null  object \n",
      " 6   merged_at       6408 non-null    object \n",
      " 7   parent_user_id  6408 non-null    float64\n",
      "dtypes: float64(2), object(6)\n",
      "memory usage: 7.2+ MB\n"
     ]
    }
   ],
   "source": [
    "df_users.info()"
   ]
  },
  {
   "cell_type": "code",
   "execution_count": 99,
   "id": "8503ed29",
   "metadata": {},
   "outputs": [
    {
     "name": "stdout",
     "output_type": "stream",
     "text": [
      "created_at:\n",
      "117136\n",
      "deleted_at:\n",
      "2888\n",
      "email_address:\n",
      "112395\n",
      "first_name:\n",
      "116\n",
      "id:\n",
      "117178\n",
      "last_name:\n",
      "83\n",
      "merged_at:\n",
      "3209\n",
      "parent_user_id:\n",
      "3209\n"
     ]
    }
   ],
   "source": [
    "print(f'created_at:')\n",
    "print(df_users.created_at.nunique())\n",
    "print(f'deleted_at:')\n",
    "print(df_users.deleted_at.nunique())\n",
    "print(f'email_address:')\n",
    "print(df_users.email_address.nunique())\n",
    "print(f'first_name:')\n",
    "print(df_users.first_name.nunique())\n",
    "print(f'id:')\n",
    "print(df_users.id.nunique())\n",
    "print(f'last_name:')\n",
    "print(df_users.last_name.nunique())\n",
    "print(f'merged_at:')\n",
    "print(df_users.merged_at.nunique())\n",
    "print(f'parent_user_id:')\n",
    "print(df_users.parent_user_id.nunique())"
   ]
  },
  {
   "cell_type": "markdown",
   "id": "127eb781",
   "metadata": {},
   "source": [
    "**--------------------------------------------------------------------------------------------------------------------------------------------------------------------**"
   ]
  },
  {
   "cell_type": "markdown",
   "id": "31611906",
   "metadata": {},
   "source": [
    "# df_orders"
   ]
  },
  {
   "cell_type": "code",
   "execution_count": 7,
   "id": "25b44d8e",
   "metadata": {},
   "outputs": [
    {
     "data": {
      "text/html": [
       "<div>\n",
       "<style scoped>\n",
       "    .dataframe tbody tr th:only-of-type {\n",
       "        vertical-align: middle;\n",
       "    }\n",
       "\n",
       "    .dataframe tbody tr th {\n",
       "        vertical-align: top;\n",
       "    }\n",
       "\n",
       "    .dataframe thead th {\n",
       "        text-align: right;\n",
       "    }\n",
       "</style>\n",
       "<table border=\"1\" class=\"dataframe\">\n",
       "  <thead>\n",
       "    <tr style=\"text-align: right;\">\n",
       "      <th></th>\n",
       "      <th>invoice_id</th>\n",
       "      <th>line_item_id</th>\n",
       "      <th>user_id</th>\n",
       "      <th>item_id</th>\n",
       "      <th>item_name</th>\n",
       "      <th>item_category</th>\n",
       "      <th>price</th>\n",
       "      <th>created_at</th>\n",
       "      <th>paid_at</th>\n",
       "    </tr>\n",
       "  </thead>\n",
       "  <tbody>\n",
       "    <tr>\n",
       "      <th>0</th>\n",
       "      <td>192320.0</td>\n",
       "      <td>83118.0</td>\n",
       "      <td>178481.0</td>\n",
       "      <td>3526.0</td>\n",
       "      <td>digital apparatus</td>\n",
       "      <td>apparatus</td>\n",
       "      <td>330.0</td>\n",
       "      <td>2017-06-28 21:14:25</td>\n",
       "      <td>2017-06-27 21:19:39</td>\n",
       "    </tr>\n",
       "    <tr>\n",
       "      <th>1</th>\n",
       "      <td>192320.0</td>\n",
       "      <td>207309.0</td>\n",
       "      <td>178481.0</td>\n",
       "      <td>1514.0</td>\n",
       "      <td>miniature apparatus cleaner</td>\n",
       "      <td>apparatus</td>\n",
       "      <td>99.0</td>\n",
       "      <td>2017-06-28 21:14:25</td>\n",
       "      <td>2017-06-27 21:19:39</td>\n",
       "    </tr>\n",
       "    <tr>\n",
       "      <th>2</th>\n",
       "      <td>192320.0</td>\n",
       "      <td>392027.0</td>\n",
       "      <td>178481.0</td>\n",
       "      <td>3712.0</td>\n",
       "      <td>miniature apparatus cleaner</td>\n",
       "      <td>apparatus</td>\n",
       "      <td>99.0</td>\n",
       "      <td>2017-06-28 21:14:25</td>\n",
       "      <td>2017-06-27 21:19:39</td>\n",
       "    </tr>\n",
       "    <tr>\n",
       "      <th>3</th>\n",
       "      <td>80902.0</td>\n",
       "      <td>243831.0</td>\n",
       "      <td>154133.0</td>\n",
       "      <td>3586.0</td>\n",
       "      <td>reflective instrument</td>\n",
       "      <td>instrument</td>\n",
       "      <td>57.2</td>\n",
       "      <td>2016-10-09 06:57:30</td>\n",
       "      <td>2016-10-07 10:08:10</td>\n",
       "    </tr>\n",
       "    <tr>\n",
       "      <th>4</th>\n",
       "      <td>80902.0</td>\n",
       "      <td>399806.0</td>\n",
       "      <td>154133.0</td>\n",
       "      <td>1061.0</td>\n",
       "      <td>extra-strength instrument charger</td>\n",
       "      <td>instrument</td>\n",
       "      <td>17.6</td>\n",
       "      <td>2016-10-09 06:57:30</td>\n",
       "      <td>2016-10-07 10:08:10</td>\n",
       "    </tr>\n",
       "    <tr>\n",
       "      <th>5</th>\n",
       "      <td>211144.0</td>\n",
       "      <td>19924.0</td>\n",
       "      <td>119514.0</td>\n",
       "      <td>550.0</td>\n",
       "      <td>miniature apparatus refill</td>\n",
       "      <td>apparatus</td>\n",
       "      <td>132.0</td>\n",
       "      <td>2016-07-25 08:01:15</td>\n",
       "      <td>2016-07-23 11:32:43</td>\n",
       "    </tr>\n",
       "    <tr>\n",
       "      <th>6</th>\n",
       "      <td>123735.0</td>\n",
       "      <td>154006.0</td>\n",
       "      <td>164581.0</td>\n",
       "      <td>982.0</td>\n",
       "      <td>miniature module carrying_case</td>\n",
       "      <td>module</td>\n",
       "      <td>33.0</td>\n",
       "      <td>2016-11-24 07:35:34</td>\n",
       "      <td>2016-11-26 20:52:06</td>\n",
       "    </tr>\n",
       "    <tr>\n",
       "      <th>7</th>\n",
       "      <td>123735.0</td>\n",
       "      <td>66700.0</td>\n",
       "      <td>164581.0</td>\n",
       "      <td>858.0</td>\n",
       "      <td>industrial-strength module</td>\n",
       "      <td>module</td>\n",
       "      <td>300.0</td>\n",
       "      <td>2016-11-24 07:35:34</td>\n",
       "      <td>2016-11-26 20:52:06</td>\n",
       "    </tr>\n",
       "  </tbody>\n",
       "</table>\n",
       "</div>"
      ],
      "text/plain": [
       "   invoice_id  line_item_id   user_id  item_id  \\\n",
       "0    192320.0       83118.0  178481.0   3526.0   \n",
       "1    192320.0      207309.0  178481.0   1514.0   \n",
       "2    192320.0      392027.0  178481.0   3712.0   \n",
       "3     80902.0      243831.0  154133.0   3586.0   \n",
       "4     80902.0      399806.0  154133.0   1061.0   \n",
       "5    211144.0       19924.0  119514.0    550.0   \n",
       "6    123735.0      154006.0  164581.0    982.0   \n",
       "7    123735.0       66700.0  164581.0    858.0   \n",
       "\n",
       "                           item_name item_category  price  \\\n",
       "0                  digital apparatus     apparatus  330.0   \n",
       "1        miniature apparatus cleaner     apparatus   99.0   \n",
       "2        miniature apparatus cleaner     apparatus   99.0   \n",
       "3              reflective instrument    instrument   57.2   \n",
       "4  extra-strength instrument charger    instrument   17.6   \n",
       "5         miniature apparatus refill     apparatus  132.0   \n",
       "6     miniature module carrying_case        module   33.0   \n",
       "7         industrial-strength module        module  300.0   \n",
       "\n",
       "            created_at              paid_at  \n",
       "0  2017-06-28 21:14:25  2017-06-27 21:19:39  \n",
       "1  2017-06-28 21:14:25  2017-06-27 21:19:39  \n",
       "2  2017-06-28 21:14:25  2017-06-27 21:19:39  \n",
       "3  2016-10-09 06:57:30  2016-10-07 10:08:10  \n",
       "4  2016-10-09 06:57:30  2016-10-07 10:08:10  \n",
       "5  2016-07-25 08:01:15  2016-07-23 11:32:43  \n",
       "6  2016-11-24 07:35:34  2016-11-26 20:52:06  \n",
       "7  2016-11-24 07:35:34  2016-11-26 20:52:06  "
      ]
     },
     "execution_count": 7,
     "metadata": {},
     "output_type": "execute_result"
    }
   ],
   "source": [
    "df_orders.head(8)"
   ]
  },
  {
   "cell_type": "code",
   "execution_count": 12,
   "id": "4590406c",
   "metadata": {},
   "outputs": [
    {
     "data": {
      "text/plain": [
       "invoice_id       0\n",
       "line_item_id     0\n",
       "user_id          0\n",
       "item_id          0\n",
       "item_name        0\n",
       "item_category    0\n",
       "price            0\n",
       "created_at       0\n",
       "paid_at          0\n",
       "dtype: int64"
      ]
     },
     "execution_count": 12,
     "metadata": {},
     "output_type": "execute_result"
    }
   ],
   "source": [
    "df_orders.isnull().sum().sort_values(ascending=False)"
   ]
  },
  {
   "cell_type": "code",
   "execution_count": 19,
   "id": "0331dc54",
   "metadata": {},
   "outputs": [
    {
     "data": {
      "text/html": [
       "<div>\n",
       "<style scoped>\n",
       "    .dataframe tbody tr th:only-of-type {\n",
       "        vertical-align: middle;\n",
       "    }\n",
       "\n",
       "    .dataframe tbody tr th {\n",
       "        vertical-align: top;\n",
       "    }\n",
       "\n",
       "    .dataframe thead th {\n",
       "        text-align: right;\n",
       "    }\n",
       "</style>\n",
       "<table border=\"1\" class=\"dataframe\">\n",
       "  <thead>\n",
       "    <tr style=\"text-align: right;\">\n",
       "      <th></th>\n",
       "      <th>invoice_id</th>\n",
       "      <th>line_item_id</th>\n",
       "      <th>user_id</th>\n",
       "      <th>item_id</th>\n",
       "      <th>item_name</th>\n",
       "      <th>item_category</th>\n",
       "      <th>price</th>\n",
       "      <th>created_at</th>\n",
       "      <th>paid_at</th>\n",
       "    </tr>\n",
       "  </thead>\n",
       "  <tbody>\n",
       "  </tbody>\n",
       "</table>\n",
       "</div>"
      ],
      "text/plain": [
       "Empty DataFrame\n",
       "Columns: [invoice_id, line_item_id, user_id, item_id, item_name, item_category, price, created_at, paid_at]\n",
       "Index: []"
      ]
     },
     "execution_count": 19,
     "metadata": {},
     "output_type": "execute_result"
    }
   ],
   "source": [
    "df_orders[df_orders.isnull().any(axis=1)].head()"
   ]
  },
  {
   "cell_type": "code",
   "execution_count": 34,
   "id": "6a13de8d",
   "metadata": {},
   "outputs": [
    {
     "data": {
      "text/plain": [
       "0"
      ]
     },
     "execution_count": 34,
     "metadata": {},
     "output_type": "execute_result"
    }
   ],
   "source": [
    "df_users.duplicated().sum()"
   ]
  },
  {
   "cell_type": "code",
   "execution_count": 30,
   "id": "81e7463d",
   "metadata": {},
   "outputs": [
    {
     "name": "stdout",
     "output_type": "stream",
     "text": [
      "<class 'pandas.core.frame.DataFrame'>\n",
      "RangeIndex: 47402 entries, 0 to 47401\n",
      "Data columns (total 9 columns):\n",
      " #   Column         Non-Null Count  Dtype  \n",
      "---  ------         --------------  -----  \n",
      " 0   invoice_id     47402 non-null  float64\n",
      " 1   line_item_id   47402 non-null  float64\n",
      " 2   user_id        47402 non-null  float64\n",
      " 3   item_id        47402 non-null  float64\n",
      " 4   item_name      47402 non-null  object \n",
      " 5   item_category  47402 non-null  object \n",
      " 6   price          47402 non-null  float64\n",
      " 7   created_at     47402 non-null  object \n",
      " 8   paid_at        47402 non-null  object \n",
      "dtypes: float64(5), object(4)\n",
      "memory usage: 3.3+ MB\n"
     ]
    }
   ],
   "source": [
    "df_orders.info()"
   ]
  },
  {
   "cell_type": "code",
   "execution_count": 105,
   "id": "89564cde",
   "metadata": {},
   "outputs": [
    {
     "name": "stdout",
     "output_type": "stream",
     "text": [
      "invoice_id:\n",
      "18971\n",
      "line_item_id:\n",
      "47402\n",
      "user_id:\n",
      "17463\n",
      "item_id:\n",
      "2198\n",
      "item_name:\n",
      "1011\n",
      "item_category:\n",
      "10\n",
      "price:\n",
      "354\n",
      "created_at:\n",
      "18970\n",
      "paid_at:\n",
      "18970\n"
     ]
    }
   ],
   "source": [
    "print(f'invoice_id:')\n",
    "print(df_orders.invoice_id.nunique())\n",
    "print(f'line_item_id:')\n",
    "print(df_orders.line_item_id.nunique())\n",
    "print(f'user_id:')\n",
    "print(df_orders.user_id.nunique())\n",
    "print(f'item_id:')\n",
    "print(df_orders.item_id.nunique())\n",
    "print(f'item_name:')\n",
    "print(df_orders.item_name.nunique())\n",
    "print(f'item_category:')\n",
    "print(df_orders.item_category.nunique())\n",
    "print(f'price:')\n",
    "print(df_orders.price.nunique())\n",
    "print(f'created_at:')\n",
    "print(df_orders.created_at.nunique())\n",
    "print(f'paid_at:')\n",
    "print(df_orders.paid_at.nunique())"
   ]
  },
  {
   "cell_type": "code",
   "execution_count": 47,
   "id": "bd60c990",
   "metadata": {},
   "outputs": [
    {
     "data": {
      "text/plain": [
       "array(['apparatus', 'instrument', 'module', 'tool', 'mechanism',\n",
       "       'contraption', 'gadget', 'widget', 'device', 'dongle'],\n",
       "      dtype=object)"
      ]
     },
     "execution_count": 47,
     "metadata": {},
     "output_type": "execute_result"
    }
   ],
   "source": [
    "df_orders.item_category.unique()"
   ]
  },
  {
   "cell_type": "markdown",
   "id": "cd61480e",
   "metadata": {},
   "source": [
    "**--------------------------------------------------------------------------------------------------------------------------------------------------------------------**"
   ]
  },
  {
   "cell_type": "markdown",
   "id": "813ec34d",
   "metadata": {},
   "source": [
    "# df_items"
   ]
  },
  {
   "cell_type": "code",
   "execution_count": 8,
   "id": "a6ff5af7",
   "metadata": {},
   "outputs": [
    {
     "data": {
      "text/html": [
       "<div>\n",
       "<style scoped>\n",
       "    .dataframe tbody tr th:only-of-type {\n",
       "        vertical-align: middle;\n",
       "    }\n",
       "\n",
       "    .dataframe tbody tr th {\n",
       "        vertical-align: top;\n",
       "    }\n",
       "\n",
       "    .dataframe thead th {\n",
       "        text-align: right;\n",
       "    }\n",
       "</style>\n",
       "<table border=\"1\" class=\"dataframe\">\n",
       "  <thead>\n",
       "    <tr style=\"text-align: right;\">\n",
       "      <th></th>\n",
       "      <th>adjective</th>\n",
       "      <th>category</th>\n",
       "      <th>created_at</th>\n",
       "      <th>id</th>\n",
       "      <th>modifier</th>\n",
       "      <th>name</th>\n",
       "      <th>price</th>\n",
       "    </tr>\n",
       "  </thead>\n",
       "  <tbody>\n",
       "    <tr>\n",
       "      <th>0</th>\n",
       "      <td>fuzzy</td>\n",
       "      <td>contraption</td>\n",
       "      <td>2014-01-15 21:36:09</td>\n",
       "      <td>2512.0</td>\n",
       "      <td>carrying_case</td>\n",
       "      <td>fuzzy contraption carrying_case</td>\n",
       "      <td>150.00</td>\n",
       "    </tr>\n",
       "    <tr>\n",
       "      <th>1</th>\n",
       "      <td>NaN</td>\n",
       "      <td>instrument</td>\n",
       "      <td>2013-05-14 05:20:50</td>\n",
       "      <td>482.0</td>\n",
       "      <td>refill</td>\n",
       "      <td>instrument refill</td>\n",
       "      <td>35.20</td>\n",
       "    </tr>\n",
       "    <tr>\n",
       "      <th>2</th>\n",
       "      <td>industrial-strength</td>\n",
       "      <td>module</td>\n",
       "      <td>2014-02-04 19:28:32</td>\n",
       "      <td>2446.0</td>\n",
       "      <td>NaN</td>\n",
       "      <td>industrial-strength module</td>\n",
       "      <td>300.00</td>\n",
       "    </tr>\n",
       "    <tr>\n",
       "      <th>3</th>\n",
       "      <td>digital</td>\n",
       "      <td>tool</td>\n",
       "      <td>2013-02-25 12:23:18</td>\n",
       "      <td>1312.0</td>\n",
       "      <td>carrying_case</td>\n",
       "      <td>digital tool carrying_case</td>\n",
       "      <td>16.50</td>\n",
       "    </tr>\n",
       "    <tr>\n",
       "      <th>4</th>\n",
       "      <td>miniature</td>\n",
       "      <td>device</td>\n",
       "      <td>2013-08-05 17:20:45</td>\n",
       "      <td>3556.0</td>\n",
       "      <td>cleaner</td>\n",
       "      <td>miniature device cleaner</td>\n",
       "      <td>16.50</td>\n",
       "    </tr>\n",
       "    <tr>\n",
       "      <th>5</th>\n",
       "      <td>rechargable</td>\n",
       "      <td>contraption</td>\n",
       "      <td>2013-09-12 06:27:01</td>\n",
       "      <td>131.0</td>\n",
       "      <td>cleaner</td>\n",
       "      <td>rechargable contraption cleaner</td>\n",
       "      <td>195.00</td>\n",
       "    </tr>\n",
       "    <tr>\n",
       "      <th>6</th>\n",
       "      <td>NaN</td>\n",
       "      <td>instrument</td>\n",
       "      <td>2013-10-07 09:38:14</td>\n",
       "      <td>1178.0</td>\n",
       "      <td>how-to-manual</td>\n",
       "      <td>instrument how-to-manual</td>\n",
       "      <td>0.00</td>\n",
       "    </tr>\n",
       "    <tr>\n",
       "      <th>7</th>\n",
       "      <td>prize-winning</td>\n",
       "      <td>mechanism</td>\n",
       "      <td>2013-09-09 09:32:18</td>\n",
       "      <td>110.0</td>\n",
       "      <td>storage_unit</td>\n",
       "      <td>prize-winning mechanism storage_unit</td>\n",
       "      <td>41.25</td>\n",
       "    </tr>\n",
       "  </tbody>\n",
       "</table>\n",
       "</div>"
      ],
      "text/plain": [
       "             adjective     category           created_at      id  \\\n",
       "0                fuzzy  contraption  2014-01-15 21:36:09  2512.0   \n",
       "1                  NaN   instrument  2013-05-14 05:20:50   482.0   \n",
       "2  industrial-strength       module  2014-02-04 19:28:32  2446.0   \n",
       "3              digital         tool  2013-02-25 12:23:18  1312.0   \n",
       "4            miniature       device  2013-08-05 17:20:45  3556.0   \n",
       "5          rechargable  contraption  2013-09-12 06:27:01   131.0   \n",
       "6                  NaN   instrument  2013-10-07 09:38:14  1178.0   \n",
       "7        prize-winning    mechanism  2013-09-09 09:32:18   110.0   \n",
       "\n",
       "        modifier                                  name   price  \n",
       "0  carrying_case       fuzzy contraption carrying_case  150.00  \n",
       "1         refill                     instrument refill   35.20  \n",
       "2            NaN            industrial-strength module  300.00  \n",
       "3  carrying_case            digital tool carrying_case   16.50  \n",
       "4        cleaner              miniature device cleaner   16.50  \n",
       "5        cleaner       rechargable contraption cleaner  195.00  \n",
       "6  how-to-manual              instrument how-to-manual    0.00  \n",
       "7   storage_unit  prize-winning mechanism storage_unit   41.25  "
      ]
     },
     "execution_count": 8,
     "metadata": {},
     "output_type": "execute_result"
    }
   ],
   "source": [
    "df_items.head(8)"
   ]
  },
  {
   "cell_type": "code",
   "execution_count": 13,
   "id": "079a94dd",
   "metadata": {},
   "outputs": [
    {
     "data": {
      "text/plain": [
       "modifier      766\n",
       "adjective     272\n",
       "category        0\n",
       "created_at      0\n",
       "id              0\n",
       "name            0\n",
       "price           0\n",
       "dtype: int64"
      ]
     },
     "execution_count": 13,
     "metadata": {},
     "output_type": "execute_result"
    }
   ],
   "source": [
    "df_items.isnull().sum().sort_values(ascending=False)"
   ]
  },
  {
   "cell_type": "code",
   "execution_count": 50,
   "id": "c07ac560",
   "metadata": {},
   "outputs": [
    {
     "data": {
      "text/html": [
       "<div>\n",
       "<style scoped>\n",
       "    .dataframe tbody tr th:only-of-type {\n",
       "        vertical-align: middle;\n",
       "    }\n",
       "\n",
       "    .dataframe tbody tr th {\n",
       "        vertical-align: top;\n",
       "    }\n",
       "\n",
       "    .dataframe thead th {\n",
       "        text-align: right;\n",
       "    }\n",
       "</style>\n",
       "<table border=\"1\" class=\"dataframe\">\n",
       "  <thead>\n",
       "    <tr style=\"text-align: right;\">\n",
       "      <th></th>\n",
       "      <th>adjective</th>\n",
       "      <th>category</th>\n",
       "      <th>created_at</th>\n",
       "      <th>id</th>\n",
       "      <th>modifier</th>\n",
       "      <th>name</th>\n",
       "      <th>price</th>\n",
       "    </tr>\n",
       "  </thead>\n",
       "  <tbody>\n",
       "    <tr>\n",
       "      <th>1</th>\n",
       "      <td>NaN</td>\n",
       "      <td>instrument</td>\n",
       "      <td>2013-05-14 05:20:50</td>\n",
       "      <td>482.0</td>\n",
       "      <td>refill</td>\n",
       "      <td>instrument refill</td>\n",
       "      <td>35.2</td>\n",
       "    </tr>\n",
       "    <tr>\n",
       "      <th>2</th>\n",
       "      <td>industrial-strength</td>\n",
       "      <td>module</td>\n",
       "      <td>2014-02-04 19:28:32</td>\n",
       "      <td>2446.0</td>\n",
       "      <td>NaN</td>\n",
       "      <td>industrial-strength module</td>\n",
       "      <td>300.0</td>\n",
       "    </tr>\n",
       "    <tr>\n",
       "      <th>6</th>\n",
       "      <td>NaN</td>\n",
       "      <td>instrument</td>\n",
       "      <td>2013-10-07 09:38:14</td>\n",
       "      <td>1178.0</td>\n",
       "      <td>how-to-manual</td>\n",
       "      <td>instrument how-to-manual</td>\n",
       "      <td>0.0</td>\n",
       "    </tr>\n",
       "    <tr>\n",
       "      <th>8</th>\n",
       "      <td>NaN</td>\n",
       "      <td>mechanism</td>\n",
       "      <td>2013-10-25 22:53:25</td>\n",
       "      <td>47.0</td>\n",
       "      <td>NaN</td>\n",
       "      <td>mechanism</td>\n",
       "      <td>15.0</td>\n",
       "    </tr>\n",
       "    <tr>\n",
       "      <th>9</th>\n",
       "      <td>organic</td>\n",
       "      <td>tool</td>\n",
       "      <td>2013-05-10 10:19:33</td>\n",
       "      <td>1696.0</td>\n",
       "      <td>NaN</td>\n",
       "      <td>organic tool</td>\n",
       "      <td>37.5</td>\n",
       "    </tr>\n",
       "  </tbody>\n",
       "</table>\n",
       "</div>"
      ],
      "text/plain": [
       "             adjective    category           created_at      id  \\\n",
       "1                  NaN  instrument  2013-05-14 05:20:50   482.0   \n",
       "2  industrial-strength      module  2014-02-04 19:28:32  2446.0   \n",
       "6                  NaN  instrument  2013-10-07 09:38:14  1178.0   \n",
       "8                  NaN   mechanism  2013-10-25 22:53:25    47.0   \n",
       "9              organic        tool  2013-05-10 10:19:33  1696.0   \n",
       "\n",
       "        modifier                        name  price  \n",
       "1         refill           instrument refill   35.2  \n",
       "2            NaN  industrial-strength module  300.0  \n",
       "6  how-to-manual    instrument how-to-manual    0.0  \n",
       "8            NaN                   mechanism   15.0  \n",
       "9            NaN                organic tool   37.5  "
      ]
     },
     "execution_count": 50,
     "metadata": {},
     "output_type": "execute_result"
    }
   ],
   "source": [
    "df_items[df_items.isnull().any(axis=1)].head()"
   ]
  },
  {
   "cell_type": "code",
   "execution_count": 44,
   "id": "f98700ed",
   "metadata": {},
   "outputs": [
    {
     "data": {
      "text/plain": [
       "0"
      ]
     },
     "execution_count": 44,
     "metadata": {},
     "output_type": "execute_result"
    }
   ],
   "source": [
    "df_items.id.duplicated().sum()"
   ]
  },
  {
   "cell_type": "code",
   "execution_count": 64,
   "id": "e0abb88d",
   "metadata": {},
   "outputs": [
    {
     "name": "stdout",
     "output_type": "stream",
     "text": [
      "<class 'pandas.core.frame.DataFrame'>\n",
      "RangeIndex: 2198 entries, 0 to 2197\n",
      "Data columns (total 7 columns):\n",
      " #   Column      Non-Null Count  Dtype  \n",
      "---  ------      --------------  -----  \n",
      " 0   adjective   1926 non-null   object \n",
      " 1   category    2198 non-null   object \n",
      " 2   created_at  2198 non-null   object \n",
      " 3   id          2198 non-null   float64\n",
      " 4   modifier    1432 non-null   object \n",
      " 5   name        2198 non-null   object \n",
      " 6   price       2198 non-null   float64\n",
      "dtypes: float64(2), object(5)\n",
      "memory usage: 120.3+ KB\n"
     ]
    }
   ],
   "source": [
    "df_items.info()"
   ]
  },
  {
   "cell_type": "code",
   "execution_count": 106,
   "id": "6af7b72b",
   "metadata": {},
   "outputs": [
    {
     "name": "stdout",
     "output_type": "stream",
     "text": [
      "adjective:\n",
      "13\n",
      "category:\n",
      "10\n",
      "created_at:\n",
      "2198\n",
      "id:\n",
      "2198\n",
      "modifier:\n",
      "9\n",
      "name:\n",
      "1011\n",
      "price:\n",
      "354\n"
     ]
    }
   ],
   "source": [
    "print(f'adjective:')\n",
    "print(df_items.adjective.nunique())\n",
    "print(f'category:')\n",
    "print(df_items.category.nunique())\n",
    "print(f'created_at:')\n",
    "print(df_items.created_at.nunique())\n",
    "print(f'id:')\n",
    "print(df_items.id.nunique())\n",
    "print(f'modifier:')\n",
    "print(df_items.modifier.nunique())\n",
    "print(f'name:')\n",
    "print(df_items.name.nunique())\n",
    "print(f'price:')\n",
    "print(df_items.price.nunique())"
   ]
  },
  {
   "cell_type": "code",
   "execution_count": 38,
   "id": "dc52b23c",
   "metadata": {},
   "outputs": [
    {
     "data": {
      "text/plain": [
       "array(['contraption', 'instrument', 'module', 'tool', 'device',\n",
       "       'mechanism', 'widget', 'apparatus', 'gadget', 'dongle'],\n",
       "      dtype=object)"
      ]
     },
     "execution_count": 38,
     "metadata": {},
     "output_type": "execute_result"
    }
   ],
   "source": [
    "df_items.category.unique()"
   ]
  },
  {
   "cell_type": "code",
   "execution_count": 45,
   "id": "d2bbfe69",
   "metadata": {},
   "outputs": [
    {
     "data": {
      "text/plain": [
       "array(['fuzzy', nan, 'industrial-strength', 'digital', 'miniature',\n",
       "       'rechargable', 'prize-winning', 'organic', 'reflective',\n",
       "       'aerodynamic', 'analog', 'extra-strength', 'matte', 'glossy'],\n",
       "      dtype=object)"
      ]
     },
     "execution_count": 45,
     "metadata": {},
     "output_type": "execute_result"
    }
   ],
   "source": [
    "df_items.adjective.unique()"
   ]
  },
  {
   "cell_type": "markdown",
   "id": "c74372e5",
   "metadata": {},
   "source": [
    "**--------------------------------------------------------------------------------------------------------------------------------------------------------------------**"
   ]
  },
  {
   "cell_type": "markdown",
   "id": "469ef9c3",
   "metadata": {},
   "source": [
    "# df_events"
   ]
  },
  {
   "cell_type": "code",
   "execution_count": 9,
   "id": "1e7a5c7f",
   "metadata": {},
   "outputs": [
    {
     "data": {
      "text/html": [
       "<div>\n",
       "<style scoped>\n",
       "    .dataframe tbody tr th:only-of-type {\n",
       "        vertical-align: middle;\n",
       "    }\n",
       "\n",
       "    .dataframe tbody tr th {\n",
       "        vertical-align: top;\n",
       "    }\n",
       "\n",
       "    .dataframe thead th {\n",
       "        text-align: right;\n",
       "    }\n",
       "</style>\n",
       "<table border=\"1\" class=\"dataframe\">\n",
       "  <thead>\n",
       "    <tr style=\"text-align: right;\">\n",
       "      <th></th>\n",
       "      <th>event_id</th>\n",
       "      <th>event_time</th>\n",
       "      <th>user_id</th>\n",
       "      <th>event_name</th>\n",
       "      <th>platform</th>\n",
       "      <th>parameter_name</th>\n",
       "      <th>parameter_value</th>\n",
       "    </tr>\n",
       "  </thead>\n",
       "  <tbody>\n",
       "    <tr>\n",
       "      <th>0</th>\n",
       "      <td>b9de71c5c3cc4cd7a97e50b832106e5a</td>\n",
       "      <td>2017-06-26 11:23:39</td>\n",
       "      <td>178481.0</td>\n",
       "      <td>view_item</td>\n",
       "      <td>android</td>\n",
       "      <td>item_id</td>\n",
       "      <td>3526</td>\n",
       "    </tr>\n",
       "    <tr>\n",
       "      <th>1</th>\n",
       "      <td>23267713c9ea44419331731f50b6a8db</td>\n",
       "      <td>2017-06-27 10:46:39</td>\n",
       "      <td>178481.0</td>\n",
       "      <td>view_item</td>\n",
       "      <td>android</td>\n",
       "      <td>item_id</td>\n",
       "      <td>1514</td>\n",
       "    </tr>\n",
       "    <tr>\n",
       "      <th>2</th>\n",
       "      <td>1b7822fa7b854e01970218ae8f721fe0</td>\n",
       "      <td>2017-06-27 11:15:39</td>\n",
       "      <td>178481.0</td>\n",
       "      <td>view_item</td>\n",
       "      <td>android</td>\n",
       "      <td>item_id</td>\n",
       "      <td>3712</td>\n",
       "    </tr>\n",
       "    <tr>\n",
       "      <th>3</th>\n",
       "      <td>2a7a188a626841ac94befcc419f06af4</td>\n",
       "      <td>2016-10-05 20:43:10</td>\n",
       "      <td>154133.0</td>\n",
       "      <td>view_item</td>\n",
       "      <td>android</td>\n",
       "      <td>item_id</td>\n",
       "      <td>3586</td>\n",
       "    </tr>\n",
       "    <tr>\n",
       "      <th>4</th>\n",
       "      <td>631d657264cc4616a4528f759509b25d</td>\n",
       "      <td>2016-10-04 03:29:10</td>\n",
       "      <td>154133.0</td>\n",
       "      <td>view_item</td>\n",
       "      <td>android</td>\n",
       "      <td>item_id</td>\n",
       "      <td>1061</td>\n",
       "    </tr>\n",
       "    <tr>\n",
       "      <th>5</th>\n",
       "      <td>05e4df2fa9044bf9a49a7351fdd4a6cd</td>\n",
       "      <td>2016-07-21 01:17:43</td>\n",
       "      <td>119514.0</td>\n",
       "      <td>view_item</td>\n",
       "      <td>web</td>\n",
       "      <td>item_id</td>\n",
       "      <td>550</td>\n",
       "    </tr>\n",
       "    <tr>\n",
       "      <th>6</th>\n",
       "      <td>22d3cdd566534fbdaa5e2982c1e64a75</td>\n",
       "      <td>2016-11-24 12:10:06</td>\n",
       "      <td>164581.0</td>\n",
       "      <td>view_item</td>\n",
       "      <td>web</td>\n",
       "      <td>item_id</td>\n",
       "      <td>982</td>\n",
       "    </tr>\n",
       "    <tr>\n",
       "      <th>7</th>\n",
       "      <td>cb0c825fe3804f42b602106580845b88</td>\n",
       "      <td>2016-11-23 21:13:06</td>\n",
       "      <td>164581.0</td>\n",
       "      <td>view_item</td>\n",
       "      <td>web</td>\n",
       "      <td>item_id</td>\n",
       "      <td>858</td>\n",
       "    </tr>\n",
       "  </tbody>\n",
       "</table>\n",
       "</div>"
      ],
      "text/plain": [
       "                           event_id           event_time   user_id event_name  \\\n",
       "0  b9de71c5c3cc4cd7a97e50b832106e5a  2017-06-26 11:23:39  178481.0  view_item   \n",
       "1  23267713c9ea44419331731f50b6a8db  2017-06-27 10:46:39  178481.0  view_item   \n",
       "2  1b7822fa7b854e01970218ae8f721fe0  2017-06-27 11:15:39  178481.0  view_item   \n",
       "3  2a7a188a626841ac94befcc419f06af4  2016-10-05 20:43:10  154133.0  view_item   \n",
       "4  631d657264cc4616a4528f759509b25d  2016-10-04 03:29:10  154133.0  view_item   \n",
       "5  05e4df2fa9044bf9a49a7351fdd4a6cd  2016-07-21 01:17:43  119514.0  view_item   \n",
       "6  22d3cdd566534fbdaa5e2982c1e64a75  2016-11-24 12:10:06  164581.0  view_item   \n",
       "7  cb0c825fe3804f42b602106580845b88  2016-11-23 21:13:06  164581.0  view_item   \n",
       "\n",
       "  platform parameter_name parameter_value  \n",
       "0  android        item_id            3526  \n",
       "1  android        item_id            1514  \n",
       "2  android        item_id            3712  \n",
       "3  android        item_id            3586  \n",
       "4  android        item_id            1061  \n",
       "5      web        item_id             550  \n",
       "6      web        item_id             982  \n",
       "7      web        item_id             858  "
      ]
     },
     "execution_count": 9,
     "metadata": {},
     "output_type": "execute_result"
    }
   ],
   "source": [
    "df_events.head(8)"
   ]
  },
  {
   "cell_type": "code",
   "execution_count": 14,
   "id": "7c4af889",
   "metadata": {},
   "outputs": [
    {
     "data": {
      "text/plain": [
       "event_id           0\n",
       "event_time         0\n",
       "user_id            0\n",
       "event_name         0\n",
       "platform           0\n",
       "parameter_name     0\n",
       "parameter_value    0\n",
       "dtype: int64"
      ]
     },
     "execution_count": 14,
     "metadata": {},
     "output_type": "execute_result"
    }
   ],
   "source": [
    "df_events.isnull().sum().sort_values(ascending=False)"
   ]
  },
  {
   "cell_type": "code",
   "execution_count": 56,
   "id": "3ec7559d",
   "metadata": {},
   "outputs": [
    {
     "data": {
      "text/html": [
       "<div>\n",
       "<style scoped>\n",
       "    .dataframe tbody tr th:only-of-type {\n",
       "        vertical-align: middle;\n",
       "    }\n",
       "\n",
       "    .dataframe tbody tr th {\n",
       "        vertical-align: top;\n",
       "    }\n",
       "\n",
       "    .dataframe thead th {\n",
       "        text-align: right;\n",
       "    }\n",
       "</style>\n",
       "<table border=\"1\" class=\"dataframe\">\n",
       "  <thead>\n",
       "    <tr style=\"text-align: right;\">\n",
       "      <th></th>\n",
       "      <th>event_id</th>\n",
       "      <th>event_time</th>\n",
       "      <th>user_id</th>\n",
       "      <th>event_name</th>\n",
       "      <th>platform</th>\n",
       "      <th>parameter_name</th>\n",
       "      <th>parameter_value</th>\n",
       "    </tr>\n",
       "  </thead>\n",
       "  <tbody>\n",
       "  </tbody>\n",
       "</table>\n",
       "</div>"
      ],
      "text/plain": [
       "Empty DataFrame\n",
       "Columns: [event_id, event_time, user_id, event_name, platform, parameter_name, parameter_value]\n",
       "Index: []"
      ]
     },
     "execution_count": 56,
     "metadata": {},
     "output_type": "execute_result"
    }
   ],
   "source": [
    "df_events[df_events.isnull().any(axis=1)].head()"
   ]
  },
  {
   "cell_type": "code",
   "execution_count": 57,
   "id": "241bcfec",
   "metadata": {},
   "outputs": [
    {
     "data": {
      "text/plain": [
       "0"
      ]
     },
     "execution_count": 57,
     "metadata": {},
     "output_type": "execute_result"
    }
   ],
   "source": [
    "df_events.duplicated().sum()"
   ]
  },
  {
   "cell_type": "code",
   "execution_count": 65,
   "id": "e7fd3639",
   "metadata": {},
   "outputs": [
    {
     "name": "stdout",
     "output_type": "stream",
     "text": [
      "<class 'pandas.core.frame.DataFrame'>\n",
      "RangeIndex: 853640 entries, 0 to 853639\n",
      "Data columns (total 7 columns):\n",
      " #   Column           Non-Null Count   Dtype  \n",
      "---  ------           --------------   -----  \n",
      " 0   event_id         853640 non-null  object \n",
      " 1   event_time       853640 non-null  object \n",
      " 2   user_id          853640 non-null  float64\n",
      " 3   event_name       853640 non-null  object \n",
      " 4   platform         853640 non-null  object \n",
      " 5   parameter_name   853640 non-null  object \n",
      " 6   parameter_value  853640 non-null  object \n",
      "dtypes: float64(1), object(6)\n",
      "memory usage: 45.6+ MB\n"
     ]
    }
   ],
   "source": [
    "df_events.info()"
   ]
  },
  {
   "cell_type": "code",
   "execution_count": 107,
   "id": "59c4eb10",
   "metadata": {},
   "outputs": [
    {
     "name": "stdout",
     "output_type": "stream",
     "text": [
      "event_id:\n",
      "428364\n",
      "event_time:\n",
      "266020\n",
      "user_id:\n",
      "109624\n",
      "event_name:\n",
      "3\n",
      "platform:\n",
      "5\n",
      "parameter_name:\n",
      "5\n",
      "parameter_value:\n",
      "7418\n"
     ]
    }
   ],
   "source": [
    "print(f'event_id:')\n",
    "print(df_events.event_id.nunique())\n",
    "print(f'event_time:')\n",
    "print(df_events.event_time.nunique())\n",
    "print(f'user_id:')\n",
    "print(df_events.user_id.nunique())\n",
    "print(f'event_name:')\n",
    "print(df_events.event_name.nunique())\n",
    "print(f'platform:')\n",
    "print(df_events.platform.nunique())\n",
    "print(f'parameter_name:')\n",
    "print(df_events.parameter_name.nunique())\n",
    "print(f'parameter_value:')\n",
    "print(df_events.parameter_value.nunique())"
   ]
  },
  {
   "cell_type": "markdown",
   "id": "28acd93d",
   "metadata": {},
   "source": [
    "**--------------------------------------------------------------------------------------------------------------------------------------------------------------------**"
   ]
  },
  {
   "cell_type": "markdown",
   "id": "bfb93c18",
   "metadata": {},
   "source": [
    "# df_date"
   ]
  },
  {
   "cell_type": "code",
   "execution_count": 10,
   "id": "a2a86660",
   "metadata": {},
   "outputs": [
    {
     "data": {
      "text/html": [
       "<div>\n",
       "<style scoped>\n",
       "    .dataframe tbody tr th:only-of-type {\n",
       "        vertical-align: middle;\n",
       "    }\n",
       "\n",
       "    .dataframe tbody tr th {\n",
       "        vertical-align: top;\n",
       "    }\n",
       "\n",
       "    .dataframe thead th {\n",
       "        text-align: right;\n",
       "    }\n",
       "</style>\n",
       "<table border=\"1\" class=\"dataframe\">\n",
       "  <thead>\n",
       "    <tr style=\"text-align: right;\">\n",
       "      <th></th>\n",
       "      <th>date</th>\n",
       "      <th>d7_ago</th>\n",
       "      <th>d28_ago</th>\n",
       "    </tr>\n",
       "  </thead>\n",
       "  <tbody>\n",
       "    <tr>\n",
       "      <th>0</th>\n",
       "      <td>2018-06-01 00:00:00</td>\n",
       "      <td>2018-05-25 00:00:00</td>\n",
       "      <td>2018-05-04 00:00:00</td>\n",
       "    </tr>\n",
       "    <tr>\n",
       "      <th>1</th>\n",
       "      <td>2018-05-31 00:00:00</td>\n",
       "      <td>2018-05-24 00:00:00</td>\n",
       "      <td>2018-05-03 00:00:00</td>\n",
       "    </tr>\n",
       "    <tr>\n",
       "      <th>2</th>\n",
       "      <td>2018-05-30 00:00:00</td>\n",
       "      <td>2018-05-23 00:00:00</td>\n",
       "      <td>2018-05-02 00:00:00</td>\n",
       "    </tr>\n",
       "    <tr>\n",
       "      <th>3</th>\n",
       "      <td>2018-05-29 00:00:00</td>\n",
       "      <td>2018-05-22 00:00:00</td>\n",
       "      <td>2018-05-01 00:00:00</td>\n",
       "    </tr>\n",
       "    <tr>\n",
       "      <th>4</th>\n",
       "      <td>2018-05-28 00:00:00</td>\n",
       "      <td>2018-05-21 00:00:00</td>\n",
       "      <td>2018-04-30 00:00:00</td>\n",
       "    </tr>\n",
       "    <tr>\n",
       "      <th>5</th>\n",
       "      <td>2018-05-27 00:00:00</td>\n",
       "      <td>2018-05-20 00:00:00</td>\n",
       "      <td>2018-04-29 00:00:00</td>\n",
       "    </tr>\n",
       "    <tr>\n",
       "      <th>6</th>\n",
       "      <td>2018-05-26 00:00:00</td>\n",
       "      <td>2018-05-19 00:00:00</td>\n",
       "      <td>2018-04-28 00:00:00</td>\n",
       "    </tr>\n",
       "    <tr>\n",
       "      <th>7</th>\n",
       "      <td>2018-05-25 00:00:00</td>\n",
       "      <td>2018-05-18 00:00:00</td>\n",
       "      <td>2018-04-27 00:00:00</td>\n",
       "    </tr>\n",
       "  </tbody>\n",
       "</table>\n",
       "</div>"
      ],
      "text/plain": [
       "                  date               d7_ago              d28_ago\n",
       "0  2018-06-01 00:00:00  2018-05-25 00:00:00  2018-05-04 00:00:00\n",
       "1  2018-05-31 00:00:00  2018-05-24 00:00:00  2018-05-03 00:00:00\n",
       "2  2018-05-30 00:00:00  2018-05-23 00:00:00  2018-05-02 00:00:00\n",
       "3  2018-05-29 00:00:00  2018-05-22 00:00:00  2018-05-01 00:00:00\n",
       "4  2018-05-28 00:00:00  2018-05-21 00:00:00  2018-04-30 00:00:00\n",
       "5  2018-05-27 00:00:00  2018-05-20 00:00:00  2018-04-29 00:00:00\n",
       "6  2018-05-26 00:00:00  2018-05-19 00:00:00  2018-04-28 00:00:00\n",
       "7  2018-05-25 00:00:00  2018-05-18 00:00:00  2018-04-27 00:00:00"
      ]
     },
     "execution_count": 10,
     "metadata": {},
     "output_type": "execute_result"
    }
   ],
   "source": [
    "df_date.head(8)"
   ]
  },
  {
   "cell_type": "code",
   "execution_count": 15,
   "id": "43aa9694",
   "metadata": {},
   "outputs": [
    {
     "data": {
      "text/plain": [
       "date       0\n",
       "d7_ago     0\n",
       "d28_ago    0\n",
       "dtype: int64"
      ]
     },
     "execution_count": 15,
     "metadata": {},
     "output_type": "execute_result"
    }
   ],
   "source": [
    "df_date.isnull().sum().sort_values(ascending=False)"
   ]
  },
  {
   "cell_type": "code",
   "execution_count": 53,
   "id": "b95023ab",
   "metadata": {},
   "outputs": [
    {
     "data": {
      "text/html": [
       "<div>\n",
       "<style scoped>\n",
       "    .dataframe tbody tr th:only-of-type {\n",
       "        vertical-align: middle;\n",
       "    }\n",
       "\n",
       "    .dataframe tbody tr th {\n",
       "        vertical-align: top;\n",
       "    }\n",
       "\n",
       "    .dataframe thead th {\n",
       "        text-align: right;\n",
       "    }\n",
       "</style>\n",
       "<table border=\"1\" class=\"dataframe\">\n",
       "  <thead>\n",
       "    <tr style=\"text-align: right;\">\n",
       "      <th></th>\n",
       "      <th>date</th>\n",
       "      <th>d7_ago</th>\n",
       "      <th>d28_ago</th>\n",
       "    </tr>\n",
       "  </thead>\n",
       "  <tbody>\n",
       "  </tbody>\n",
       "</table>\n",
       "</div>"
      ],
      "text/plain": [
       "Empty DataFrame\n",
       "Columns: [date, d7_ago, d28_ago]\n",
       "Index: []"
      ]
     },
     "execution_count": 53,
     "metadata": {},
     "output_type": "execute_result"
    }
   ],
   "source": [
    "df_date[df_date.isnull().any(axis=1)].head()"
   ]
  },
  {
   "cell_type": "code",
   "execution_count": 55,
   "id": "9bd650fd",
   "metadata": {},
   "outputs": [
    {
     "data": {
      "text/plain": [
       "0"
      ]
     },
     "execution_count": 55,
     "metadata": {},
     "output_type": "execute_result"
    }
   ],
   "source": [
    "df_date.duplicated().sum()"
   ]
  },
  {
   "cell_type": "code",
   "execution_count": 66,
   "id": "e7dfe750",
   "metadata": {},
   "outputs": [
    {
     "name": "stdout",
     "output_type": "stream",
     "text": [
      "<class 'pandas.core.frame.DataFrame'>\n",
      "RangeIndex: 1978 entries, 0 to 1977\n",
      "Data columns (total 3 columns):\n",
      " #   Column   Non-Null Count  Dtype \n",
      "---  ------   --------------  ----- \n",
      " 0   date     1978 non-null   object\n",
      " 1   d7_ago   1978 non-null   object\n",
      " 2   d28_ago  1978 non-null   object\n",
      "dtypes: object(3)\n",
      "memory usage: 46.5+ KB\n"
     ]
    }
   ],
   "source": [
    "df_date.info()"
   ]
  },
  {
   "cell_type": "code",
   "execution_count": 108,
   "id": "cf4c1969",
   "metadata": {},
   "outputs": [
    {
     "name": "stdout",
     "output_type": "stream",
     "text": [
      "date:\n",
      "1978\n",
      "d7_ago:\n",
      "1978\n",
      "d28_ago:\n",
      "1978\n"
     ]
    }
   ],
   "source": [
    "print(f'date:')\n",
    "print(df_date.date.nunique())\n",
    "print(f'd7_ago:')\n",
    "print(df_date.d7_ago.nunique())\n",
    "print(f'd28_ago:')\n",
    "print(df_date.d28_ago.nunique())"
   ]
  },
  {
   "cell_type": "markdown",
   "id": "015a88f6",
   "metadata": {},
   "source": [
    "**--------------------------------------------------------------------------------------------------------------------------------------------------------------------**"
   ]
  },
  {
   "cell_type": "code",
   "execution_count": null,
   "id": "bfde8463",
   "metadata": {},
   "outputs": [],
   "source": []
  }
 ],
 "metadata": {
  "kernelspec": {
   "display_name": "Python 3 (ipykernel)",
   "language": "python",
   "name": "python3"
  },
  "language_info": {
   "codemirror_mode": {
    "name": "ipython",
    "version": 3
   },
   "file_extension": ".py",
   "mimetype": "text/x-python",
   "name": "python",
   "nbconvert_exporter": "python",
   "pygments_lexer": "ipython3",
   "version": "3.9.12"
  }
 },
 "nbformat": 4,
 "nbformat_minor": 5
}
